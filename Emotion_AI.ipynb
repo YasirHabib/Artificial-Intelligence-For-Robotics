{
  "nbformat": 4,
  "nbformat_minor": 0,
  "metadata": {
    "colab": {
      "name": "Emotion AI.ipynb",
      "provenance": [],
      "collapsed_sections": [],
      "authorship_tag": "ABX9TyOUBt7zWufd2uxO5naBc0CP"
    },
    "kernelspec": {
      "name": "python3",
      "display_name": "Python 3"
    }
  },
  "cells": [
    {
      "cell_type": "code",
      "metadata": {
        "id": "jEQN54eq2iha"
      },
      "source": [
        "import numpy as np\r\n",
        "import pandas as pd\r\n",
        "import matplotlib.pyplot as plt\r\n",
        "import os"
      ],
      "execution_count": 1,
      "outputs": []
    },
    {
      "cell_type": "code",
      "metadata": {
        "id": "c3LyAdxl4kaX",
        "colab": {
          "base_uri": "https://localhost:8080/"
        },
        "outputId": "3f191815-d270-49cd-8f1a-369685a82d74"
      },
      "source": [
        "from google.colab import drive\r\n",
        "drive.mount('/content/gdrive')"
      ],
      "execution_count": 2,
      "outputs": [
        {
          "output_type": "stream",
          "text": [
            "Mounted at /content/gdrive\n"
          ],
          "name": "stdout"
        }
      ]
    },
    {
      "cell_type": "code",
      "metadata": {
        "id": "MUb7ruOZHDna"
      },
      "source": [
        "path = '/content/gdrive/My Drive/Colab Notebooks/Modern Artificial Intelligence/Emotion AI Dataset/'"
      ],
      "execution_count": 5,
      "outputs": []
    },
    {
      "cell_type": "code",
      "metadata": {
        "colab": {
          "base_uri": "https://localhost:8080/"
        },
        "id": "JhaCS2GrDrOP",
        "outputId": "7e60a38c-34cf-4bec-d2c4-35a1a317e233"
      },
      "source": [
        "!ls"
      ],
      "execution_count": 6,
      "outputs": [
        {
          "output_type": "stream",
          "text": [
            "gdrive\tsample_data\n"
          ],
          "name": "stdout"
        }
      ]
    },
    {
      "cell_type": "code",
      "metadata": {
        "id": "JZFE5vNiMV9l"
      },
      "source": [
        "data = os.path.join(path, 'data.csv')"
      ],
      "execution_count": 18,
      "outputs": []
    },
    {
      "cell_type": "code",
      "metadata": {
        "colab": {
          "base_uri": "https://localhost:8080/"
        },
        "id": "0O9iY_K4GgQo",
        "outputId": "a0c596af-ccfb-436b-f6c8-d1f0834fc397"
      },
      "source": [
        "df = pd.read_csv(data)\r\n",
        "df.info()"
      ],
      "execution_count": 19,
      "outputs": [
        {
          "output_type": "stream",
          "text": [
            "<class 'pandas.core.frame.DataFrame'>\n",
            "RangeIndex: 2140 entries, 0 to 2139\n",
            "Data columns (total 31 columns):\n",
            " #   Column                     Non-Null Count  Dtype  \n",
            "---  ------                     --------------  -----  \n",
            " 0   left_eye_center_x          2140 non-null   float64\n",
            " 1   left_eye_center_y          2140 non-null   float64\n",
            " 2   right_eye_center_x         2140 non-null   float64\n",
            " 3   right_eye_center_y         2140 non-null   float64\n",
            " 4   left_eye_inner_corner_x    2140 non-null   float64\n",
            " 5   left_eye_inner_corner_y    2140 non-null   float64\n",
            " 6   left_eye_outer_corner_x    2140 non-null   float64\n",
            " 7   left_eye_outer_corner_y    2140 non-null   float64\n",
            " 8   right_eye_inner_corner_x   2140 non-null   float64\n",
            " 9   right_eye_inner_corner_y   2140 non-null   float64\n",
            " 10  right_eye_outer_corner_x   2140 non-null   float64\n",
            " 11  right_eye_outer_corner_y   2140 non-null   float64\n",
            " 12  left_eyebrow_inner_end_x   2140 non-null   float64\n",
            " 13  left_eyebrow_inner_end_y   2140 non-null   float64\n",
            " 14  left_eyebrow_outer_end_x   2140 non-null   float64\n",
            " 15  left_eyebrow_outer_end_y   2140 non-null   float64\n",
            " 16  right_eyebrow_inner_end_x  2140 non-null   float64\n",
            " 17  right_eyebrow_inner_end_y  2140 non-null   float64\n",
            " 18  right_eyebrow_outer_end_x  2140 non-null   float64\n",
            " 19  right_eyebrow_outer_end_y  2140 non-null   float64\n",
            " 20  nose_tip_x                 2140 non-null   float64\n",
            " 21  nose_tip_y                 2140 non-null   float64\n",
            " 22  mouth_left_corner_x        2140 non-null   float64\n",
            " 23  mouth_left_corner_y        2140 non-null   float64\n",
            " 24  mouth_right_corner_x       2140 non-null   float64\n",
            " 25  mouth_right_corner_y       2140 non-null   float64\n",
            " 26  mouth_center_top_lip_x     2140 non-null   float64\n",
            " 27  mouth_center_top_lip_y     2140 non-null   float64\n",
            " 28  mouth_center_bottom_lip_x  2140 non-null   float64\n",
            " 29  mouth_center_bottom_lip_y  2140 non-null   float64\n",
            " 30  Image                      2140 non-null   object \n",
            "dtypes: float64(30), object(1)\n",
            "memory usage: 518.4+ KB\n"
          ],
          "name": "stdout"
        }
      ]
    },
    {
      "cell_type": "code",
      "metadata": {
        "colab": {
          "base_uri": "https://localhost:8080/",
          "height": 1000
        },
        "id": "z6laUIWoI5RW",
        "outputId": "fd3f2f13-c196-4e5c-cd77-9a0addbfa1b1"
      },
      "source": [
        "df.head()"
      ],
      "execution_count": 20,
      "outputs": [
        {
          "output_type": "execute_result",
          "data": {
            "text/html": [
              "<div>\n",
              "<style scoped>\n",
              "    .dataframe tbody tr th:only-of-type {\n",
              "        vertical-align: middle;\n",
              "    }\n",
              "\n",
              "    .dataframe tbody tr th {\n",
              "        vertical-align: top;\n",
              "    }\n",
              "\n",
              "    .dataframe thead th {\n",
              "        text-align: right;\n",
              "    }\n",
              "</style>\n",
              "<table border=\"1\" class=\"dataframe\">\n",
              "  <thead>\n",
              "    <tr style=\"text-align: right;\">\n",
              "      <th></th>\n",
              "      <th>left_eye_center_x</th>\n",
              "      <th>left_eye_center_y</th>\n",
              "      <th>right_eye_center_x</th>\n",
              "      <th>right_eye_center_y</th>\n",
              "      <th>left_eye_inner_corner_x</th>\n",
              "      <th>left_eye_inner_corner_y</th>\n",
              "      <th>left_eye_outer_corner_x</th>\n",
              "      <th>left_eye_outer_corner_y</th>\n",
              "      <th>right_eye_inner_corner_x</th>\n",
              "      <th>right_eye_inner_corner_y</th>\n",
              "      <th>right_eye_outer_corner_x</th>\n",
              "      <th>right_eye_outer_corner_y</th>\n",
              "      <th>left_eyebrow_inner_end_x</th>\n",
              "      <th>left_eyebrow_inner_end_y</th>\n",
              "      <th>left_eyebrow_outer_end_x</th>\n",
              "      <th>left_eyebrow_outer_end_y</th>\n",
              "      <th>right_eyebrow_inner_end_x</th>\n",
              "      <th>right_eyebrow_inner_end_y</th>\n",
              "      <th>right_eyebrow_outer_end_x</th>\n",
              "      <th>right_eyebrow_outer_end_y</th>\n",
              "      <th>nose_tip_x</th>\n",
              "      <th>nose_tip_y</th>\n",
              "      <th>mouth_left_corner_x</th>\n",
              "      <th>mouth_left_corner_y</th>\n",
              "      <th>mouth_right_corner_x</th>\n",
              "      <th>mouth_right_corner_y</th>\n",
              "      <th>mouth_center_top_lip_x</th>\n",
              "      <th>mouth_center_top_lip_y</th>\n",
              "      <th>mouth_center_bottom_lip_x</th>\n",
              "      <th>mouth_center_bottom_lip_y</th>\n",
              "      <th>Image</th>\n",
              "    </tr>\n",
              "  </thead>\n",
              "  <tbody>\n",
              "    <tr>\n",
              "      <th>0</th>\n",
              "      <td>66.033564</td>\n",
              "      <td>39.002274</td>\n",
              "      <td>30.227008</td>\n",
              "      <td>36.421678</td>\n",
              "      <td>59.582075</td>\n",
              "      <td>39.647423</td>\n",
              "      <td>73.130346</td>\n",
              "      <td>39.969997</td>\n",
              "      <td>36.356571</td>\n",
              "      <td>37.389402</td>\n",
              "      <td>23.452872</td>\n",
              "      <td>37.389402</td>\n",
              "      <td>56.953263</td>\n",
              "      <td>29.033648</td>\n",
              "      <td>80.227128</td>\n",
              "      <td>32.228138</td>\n",
              "      <td>40.227609</td>\n",
              "      <td>29.002322</td>\n",
              "      <td>16.356379</td>\n",
              "      <td>29.647471</td>\n",
              "      <td>44.420571</td>\n",
              "      <td>57.066803</td>\n",
              "      <td>61.195308</td>\n",
              "      <td>79.970165</td>\n",
              "      <td>28.614496</td>\n",
              "      <td>77.388992</td>\n",
              "      <td>43.312602</td>\n",
              "      <td>72.935459</td>\n",
              "      <td>43.130707</td>\n",
              "      <td>84.485774</td>\n",
              "      <td>238 236 237 238 240 240 239 241 241 243 240 23...</td>\n",
              "    </tr>\n",
              "    <tr>\n",
              "      <th>1</th>\n",
              "      <td>64.332936</td>\n",
              "      <td>34.970077</td>\n",
              "      <td>29.949277</td>\n",
              "      <td>33.448715</td>\n",
              "      <td>58.856170</td>\n",
              "      <td>35.274349</td>\n",
              "      <td>70.722723</td>\n",
              "      <td>36.187166</td>\n",
              "      <td>36.034723</td>\n",
              "      <td>34.361532</td>\n",
              "      <td>24.472511</td>\n",
              "      <td>33.144443</td>\n",
              "      <td>53.987404</td>\n",
              "      <td>28.275949</td>\n",
              "      <td>78.634213</td>\n",
              "      <td>30.405923</td>\n",
              "      <td>42.728851</td>\n",
              "      <td>26.146043</td>\n",
              "      <td>16.865362</td>\n",
              "      <td>27.058860</td>\n",
              "      <td>48.206298</td>\n",
              "      <td>55.660936</td>\n",
              "      <td>56.421447</td>\n",
              "      <td>76.352000</td>\n",
              "      <td>35.122383</td>\n",
              "      <td>76.047660</td>\n",
              "      <td>46.684596</td>\n",
              "      <td>70.266553</td>\n",
              "      <td>45.467915</td>\n",
              "      <td>85.480170</td>\n",
              "      <td>219 215 204 196 204 211 212 200 180 168 178 19...</td>\n",
              "    </tr>\n",
              "    <tr>\n",
              "      <th>2</th>\n",
              "      <td>65.057053</td>\n",
              "      <td>34.909642</td>\n",
              "      <td>30.903789</td>\n",
              "      <td>34.909642</td>\n",
              "      <td>59.412000</td>\n",
              "      <td>36.320968</td>\n",
              "      <td>70.984421</td>\n",
              "      <td>36.320968</td>\n",
              "      <td>37.678105</td>\n",
              "      <td>36.320968</td>\n",
              "      <td>24.976421</td>\n",
              "      <td>36.603221</td>\n",
              "      <td>55.742526</td>\n",
              "      <td>27.570947</td>\n",
              "      <td>78.887368</td>\n",
              "      <td>32.651621</td>\n",
              "      <td>42.193895</td>\n",
              "      <td>28.135453</td>\n",
              "      <td>16.791158</td>\n",
              "      <td>32.087116</td>\n",
              "      <td>47.557263</td>\n",
              "      <td>53.538947</td>\n",
              "      <td>60.822947</td>\n",
              "      <td>73.014316</td>\n",
              "      <td>33.726316</td>\n",
              "      <td>72.732000</td>\n",
              "      <td>47.274947</td>\n",
              "      <td>70.191789</td>\n",
              "      <td>47.274947</td>\n",
              "      <td>78.659368</td>\n",
              "      <td>144 142 159 180 188 188 184 180 167 132 84 59 ...</td>\n",
              "    </tr>\n",
              "    <tr>\n",
              "      <th>3</th>\n",
              "      <td>65.225739</td>\n",
              "      <td>37.261774</td>\n",
              "      <td>32.023096</td>\n",
              "      <td>37.261774</td>\n",
              "      <td>60.003339</td>\n",
              "      <td>39.127179</td>\n",
              "      <td>72.314713</td>\n",
              "      <td>38.380967</td>\n",
              "      <td>37.618643</td>\n",
              "      <td>38.754115</td>\n",
              "      <td>25.307270</td>\n",
              "      <td>38.007903</td>\n",
              "      <td>56.433809</td>\n",
              "      <td>30.929864</td>\n",
              "      <td>77.910261</td>\n",
              "      <td>31.665725</td>\n",
              "      <td>41.671513</td>\n",
              "      <td>31.049990</td>\n",
              "      <td>20.458017</td>\n",
              "      <td>29.909343</td>\n",
              "      <td>51.885078</td>\n",
              "      <td>54.166539</td>\n",
              "      <td>65.598887</td>\n",
              "      <td>72.703722</td>\n",
              "      <td>37.245496</td>\n",
              "      <td>74.195478</td>\n",
              "      <td>50.303165</td>\n",
              "      <td>70.091687</td>\n",
              "      <td>51.561183</td>\n",
              "      <td>78.268383</td>\n",
              "      <td>193 192 193 194 194 194 193 192 168 111 50 12 ...</td>\n",
              "    </tr>\n",
              "    <tr>\n",
              "      <th>4</th>\n",
              "      <td>66.725301</td>\n",
              "      <td>39.621261</td>\n",
              "      <td>32.244810</td>\n",
              "      <td>38.042032</td>\n",
              "      <td>58.565890</td>\n",
              "      <td>39.621261</td>\n",
              "      <td>72.515926</td>\n",
              "      <td>39.884466</td>\n",
              "      <td>36.982380</td>\n",
              "      <td>39.094852</td>\n",
              "      <td>22.506110</td>\n",
              "      <td>38.305237</td>\n",
              "      <td>57.249571</td>\n",
              "      <td>30.672177</td>\n",
              "      <td>77.762945</td>\n",
              "      <td>31.737247</td>\n",
              "      <td>38.035436</td>\n",
              "      <td>30.935382</td>\n",
              "      <td>15.925870</td>\n",
              "      <td>30.672177</td>\n",
              "      <td>43.299534</td>\n",
              "      <td>64.889521</td>\n",
              "      <td>60.671411</td>\n",
              "      <td>77.523239</td>\n",
              "      <td>31.191755</td>\n",
              "      <td>76.997301</td>\n",
              "      <td>44.962748</td>\n",
              "      <td>73.707387</td>\n",
              "      <td>44.227141</td>\n",
              "      <td>86.871166</td>\n",
              "      <td>147 148 160 196 215 214 216 217 219 220 206 18...</td>\n",
              "    </tr>\n",
              "  </tbody>\n",
              "</table>\n",
              "</div>"
            ],
            "text/plain": [
              "   left_eye_center_x  ...                                              Image\n",
              "0          66.033564  ...  238 236 237 238 240 240 239 241 241 243 240 23...\n",
              "1          64.332936  ...  219 215 204 196 204 211 212 200 180 168 178 19...\n",
              "2          65.057053  ...  144 142 159 180 188 188 184 180 167 132 84 59 ...\n",
              "3          65.225739  ...  193 192 193 194 194 194 193 192 168 111 50 12 ...\n",
              "4          66.725301  ...  147 148 160 196 215 214 216 217 219 220 206 18...\n",
              "\n",
              "[5 rows x 31 columns]"
            ]
          },
          "metadata": {
            "tags": []
          },
          "execution_count": 20
        }
      ]
    },
    {
      "cell_type": "code",
      "metadata": {
        "colab": {
          "base_uri": "https://localhost:8080/",
          "height": 1000
        },
        "id": "4vxXctYRvWi9",
        "outputId": "325714e6-eef1-4325-f82e-be33d43c7fc0"
      },
      "source": [
        "df.head().T"
      ],
      "execution_count": 21,
      "outputs": [
        {
          "output_type": "execute_result",
          "data": {
            "text/html": [
              "<div>\n",
              "<style scoped>\n",
              "    .dataframe tbody tr th:only-of-type {\n",
              "        vertical-align: middle;\n",
              "    }\n",
              "\n",
              "    .dataframe tbody tr th {\n",
              "        vertical-align: top;\n",
              "    }\n",
              "\n",
              "    .dataframe thead th {\n",
              "        text-align: right;\n",
              "    }\n",
              "</style>\n",
              "<table border=\"1\" class=\"dataframe\">\n",
              "  <thead>\n",
              "    <tr style=\"text-align: right;\">\n",
              "      <th></th>\n",
              "      <th>0</th>\n",
              "      <th>1</th>\n",
              "      <th>2</th>\n",
              "      <th>3</th>\n",
              "      <th>4</th>\n",
              "    </tr>\n",
              "  </thead>\n",
              "  <tbody>\n",
              "    <tr>\n",
              "      <th>left_eye_center_x</th>\n",
              "      <td>66.0336</td>\n",
              "      <td>64.3329</td>\n",
              "      <td>65.0571</td>\n",
              "      <td>65.2257</td>\n",
              "      <td>66.7253</td>\n",
              "    </tr>\n",
              "    <tr>\n",
              "      <th>left_eye_center_y</th>\n",
              "      <td>39.0023</td>\n",
              "      <td>34.9701</td>\n",
              "      <td>34.9096</td>\n",
              "      <td>37.2618</td>\n",
              "      <td>39.6213</td>\n",
              "    </tr>\n",
              "    <tr>\n",
              "      <th>right_eye_center_x</th>\n",
              "      <td>30.227</td>\n",
              "      <td>29.9493</td>\n",
              "      <td>30.9038</td>\n",
              "      <td>32.0231</td>\n",
              "      <td>32.2448</td>\n",
              "    </tr>\n",
              "    <tr>\n",
              "      <th>right_eye_center_y</th>\n",
              "      <td>36.4217</td>\n",
              "      <td>33.4487</td>\n",
              "      <td>34.9096</td>\n",
              "      <td>37.2618</td>\n",
              "      <td>38.042</td>\n",
              "    </tr>\n",
              "    <tr>\n",
              "      <th>left_eye_inner_corner_x</th>\n",
              "      <td>59.5821</td>\n",
              "      <td>58.8562</td>\n",
              "      <td>59.412</td>\n",
              "      <td>60.0033</td>\n",
              "      <td>58.5659</td>\n",
              "    </tr>\n",
              "    <tr>\n",
              "      <th>left_eye_inner_corner_y</th>\n",
              "      <td>39.6474</td>\n",
              "      <td>35.2743</td>\n",
              "      <td>36.321</td>\n",
              "      <td>39.1272</td>\n",
              "      <td>39.6213</td>\n",
              "    </tr>\n",
              "    <tr>\n",
              "      <th>left_eye_outer_corner_x</th>\n",
              "      <td>73.1303</td>\n",
              "      <td>70.7227</td>\n",
              "      <td>70.9844</td>\n",
              "      <td>72.3147</td>\n",
              "      <td>72.5159</td>\n",
              "    </tr>\n",
              "    <tr>\n",
              "      <th>left_eye_outer_corner_y</th>\n",
              "      <td>39.97</td>\n",
              "      <td>36.1872</td>\n",
              "      <td>36.321</td>\n",
              "      <td>38.381</td>\n",
              "      <td>39.8845</td>\n",
              "    </tr>\n",
              "    <tr>\n",
              "      <th>right_eye_inner_corner_x</th>\n",
              "      <td>36.3566</td>\n",
              "      <td>36.0347</td>\n",
              "      <td>37.6781</td>\n",
              "      <td>37.6186</td>\n",
              "      <td>36.9824</td>\n",
              "    </tr>\n",
              "    <tr>\n",
              "      <th>right_eye_inner_corner_y</th>\n",
              "      <td>37.3894</td>\n",
              "      <td>34.3615</td>\n",
              "      <td>36.321</td>\n",
              "      <td>38.7541</td>\n",
              "      <td>39.0949</td>\n",
              "    </tr>\n",
              "    <tr>\n",
              "      <th>right_eye_outer_corner_x</th>\n",
              "      <td>23.4529</td>\n",
              "      <td>24.4725</td>\n",
              "      <td>24.9764</td>\n",
              "      <td>25.3073</td>\n",
              "      <td>22.5061</td>\n",
              "    </tr>\n",
              "    <tr>\n",
              "      <th>right_eye_outer_corner_y</th>\n",
              "      <td>37.3894</td>\n",
              "      <td>33.1444</td>\n",
              "      <td>36.6032</td>\n",
              "      <td>38.0079</td>\n",
              "      <td>38.3052</td>\n",
              "    </tr>\n",
              "    <tr>\n",
              "      <th>left_eyebrow_inner_end_x</th>\n",
              "      <td>56.9533</td>\n",
              "      <td>53.9874</td>\n",
              "      <td>55.7425</td>\n",
              "      <td>56.4338</td>\n",
              "      <td>57.2496</td>\n",
              "    </tr>\n",
              "    <tr>\n",
              "      <th>left_eyebrow_inner_end_y</th>\n",
              "      <td>29.0336</td>\n",
              "      <td>28.2759</td>\n",
              "      <td>27.5709</td>\n",
              "      <td>30.9299</td>\n",
              "      <td>30.6722</td>\n",
              "    </tr>\n",
              "    <tr>\n",
              "      <th>left_eyebrow_outer_end_x</th>\n",
              "      <td>80.2271</td>\n",
              "      <td>78.6342</td>\n",
              "      <td>78.8874</td>\n",
              "      <td>77.9103</td>\n",
              "      <td>77.7629</td>\n",
              "    </tr>\n",
              "    <tr>\n",
              "      <th>left_eyebrow_outer_end_y</th>\n",
              "      <td>32.2281</td>\n",
              "      <td>30.4059</td>\n",
              "      <td>32.6516</td>\n",
              "      <td>31.6657</td>\n",
              "      <td>31.7372</td>\n",
              "    </tr>\n",
              "    <tr>\n",
              "      <th>right_eyebrow_inner_end_x</th>\n",
              "      <td>40.2276</td>\n",
              "      <td>42.7289</td>\n",
              "      <td>42.1939</td>\n",
              "      <td>41.6715</td>\n",
              "      <td>38.0354</td>\n",
              "    </tr>\n",
              "    <tr>\n",
              "      <th>right_eyebrow_inner_end_y</th>\n",
              "      <td>29.0023</td>\n",
              "      <td>26.146</td>\n",
              "      <td>28.1355</td>\n",
              "      <td>31.05</td>\n",
              "      <td>30.9354</td>\n",
              "    </tr>\n",
              "    <tr>\n",
              "      <th>right_eyebrow_outer_end_x</th>\n",
              "      <td>16.3564</td>\n",
              "      <td>16.8654</td>\n",
              "      <td>16.7912</td>\n",
              "      <td>20.458</td>\n",
              "      <td>15.9259</td>\n",
              "    </tr>\n",
              "    <tr>\n",
              "      <th>right_eyebrow_outer_end_y</th>\n",
              "      <td>29.6475</td>\n",
              "      <td>27.0589</td>\n",
              "      <td>32.0871</td>\n",
              "      <td>29.9093</td>\n",
              "      <td>30.6722</td>\n",
              "    </tr>\n",
              "    <tr>\n",
              "      <th>nose_tip_x</th>\n",
              "      <td>44.4206</td>\n",
              "      <td>48.2063</td>\n",
              "      <td>47.5573</td>\n",
              "      <td>51.8851</td>\n",
              "      <td>43.2995</td>\n",
              "    </tr>\n",
              "    <tr>\n",
              "      <th>nose_tip_y</th>\n",
              "      <td>57.0668</td>\n",
              "      <td>55.6609</td>\n",
              "      <td>53.5389</td>\n",
              "      <td>54.1665</td>\n",
              "      <td>64.8895</td>\n",
              "    </tr>\n",
              "    <tr>\n",
              "      <th>mouth_left_corner_x</th>\n",
              "      <td>61.1953</td>\n",
              "      <td>56.4214</td>\n",
              "      <td>60.8229</td>\n",
              "      <td>65.5989</td>\n",
              "      <td>60.6714</td>\n",
              "    </tr>\n",
              "    <tr>\n",
              "      <th>mouth_left_corner_y</th>\n",
              "      <td>79.9702</td>\n",
              "      <td>76.352</td>\n",
              "      <td>73.0143</td>\n",
              "      <td>72.7037</td>\n",
              "      <td>77.5232</td>\n",
              "    </tr>\n",
              "    <tr>\n",
              "      <th>mouth_right_corner_x</th>\n",
              "      <td>28.6145</td>\n",
              "      <td>35.1224</td>\n",
              "      <td>33.7263</td>\n",
              "      <td>37.2455</td>\n",
              "      <td>31.1918</td>\n",
              "    </tr>\n",
              "    <tr>\n",
              "      <th>mouth_right_corner_y</th>\n",
              "      <td>77.389</td>\n",
              "      <td>76.0477</td>\n",
              "      <td>72.732</td>\n",
              "      <td>74.1955</td>\n",
              "      <td>76.9973</td>\n",
              "    </tr>\n",
              "    <tr>\n",
              "      <th>mouth_center_top_lip_x</th>\n",
              "      <td>43.3126</td>\n",
              "      <td>46.6846</td>\n",
              "      <td>47.2749</td>\n",
              "      <td>50.3032</td>\n",
              "      <td>44.9627</td>\n",
              "    </tr>\n",
              "    <tr>\n",
              "      <th>mouth_center_top_lip_y</th>\n",
              "      <td>72.9355</td>\n",
              "      <td>70.2666</td>\n",
              "      <td>70.1918</td>\n",
              "      <td>70.0917</td>\n",
              "      <td>73.7074</td>\n",
              "    </tr>\n",
              "    <tr>\n",
              "      <th>mouth_center_bottom_lip_x</th>\n",
              "      <td>43.1307</td>\n",
              "      <td>45.4679</td>\n",
              "      <td>47.2749</td>\n",
              "      <td>51.5612</td>\n",
              "      <td>44.2271</td>\n",
              "    </tr>\n",
              "    <tr>\n",
              "      <th>mouth_center_bottom_lip_y</th>\n",
              "      <td>84.4858</td>\n",
              "      <td>85.4802</td>\n",
              "      <td>78.6594</td>\n",
              "      <td>78.2684</td>\n",
              "      <td>86.8712</td>\n",
              "    </tr>\n",
              "    <tr>\n",
              "      <th>Image</th>\n",
              "      <td>238 236 237 238 240 240 239 241 241 243 240 23...</td>\n",
              "      <td>219 215 204 196 204 211 212 200 180 168 178 19...</td>\n",
              "      <td>144 142 159 180 188 188 184 180 167 132 84 59 ...</td>\n",
              "      <td>193 192 193 194 194 194 193 192 168 111 50 12 ...</td>\n",
              "      <td>147 148 160 196 215 214 216 217 219 220 206 18...</td>\n",
              "    </tr>\n",
              "  </tbody>\n",
              "</table>\n",
              "</div>"
            ],
            "text/plain": [
              "                                                                           0  ...                                                  4\n",
              "left_eye_center_x                                                    66.0336  ...                                            66.7253\n",
              "left_eye_center_y                                                    39.0023  ...                                            39.6213\n",
              "right_eye_center_x                                                    30.227  ...                                            32.2448\n",
              "right_eye_center_y                                                   36.4217  ...                                             38.042\n",
              "left_eye_inner_corner_x                                              59.5821  ...                                            58.5659\n",
              "left_eye_inner_corner_y                                              39.6474  ...                                            39.6213\n",
              "left_eye_outer_corner_x                                              73.1303  ...                                            72.5159\n",
              "left_eye_outer_corner_y                                                39.97  ...                                            39.8845\n",
              "right_eye_inner_corner_x                                             36.3566  ...                                            36.9824\n",
              "right_eye_inner_corner_y                                             37.3894  ...                                            39.0949\n",
              "right_eye_outer_corner_x                                             23.4529  ...                                            22.5061\n",
              "right_eye_outer_corner_y                                             37.3894  ...                                            38.3052\n",
              "left_eyebrow_inner_end_x                                             56.9533  ...                                            57.2496\n",
              "left_eyebrow_inner_end_y                                             29.0336  ...                                            30.6722\n",
              "left_eyebrow_outer_end_x                                             80.2271  ...                                            77.7629\n",
              "left_eyebrow_outer_end_y                                             32.2281  ...                                            31.7372\n",
              "right_eyebrow_inner_end_x                                            40.2276  ...                                            38.0354\n",
              "right_eyebrow_inner_end_y                                            29.0023  ...                                            30.9354\n",
              "right_eyebrow_outer_end_x                                            16.3564  ...                                            15.9259\n",
              "right_eyebrow_outer_end_y                                            29.6475  ...                                            30.6722\n",
              "nose_tip_x                                                           44.4206  ...                                            43.2995\n",
              "nose_tip_y                                                           57.0668  ...                                            64.8895\n",
              "mouth_left_corner_x                                                  61.1953  ...                                            60.6714\n",
              "mouth_left_corner_y                                                  79.9702  ...                                            77.5232\n",
              "mouth_right_corner_x                                                 28.6145  ...                                            31.1918\n",
              "mouth_right_corner_y                                                  77.389  ...                                            76.9973\n",
              "mouth_center_top_lip_x                                               43.3126  ...                                            44.9627\n",
              "mouth_center_top_lip_y                                               72.9355  ...                                            73.7074\n",
              "mouth_center_bottom_lip_x                                            43.1307  ...                                            44.2271\n",
              "mouth_center_bottom_lip_y                                            84.4858  ...                                            86.8712\n",
              "Image                      238 236 237 238 240 240 239 241 241 243 240 23...  ...  147 148 160 196 215 214 216 217 219 220 206 18...\n",
              "\n",
              "[31 rows x 5 columns]"
            ]
          },
          "metadata": {
            "tags": []
          },
          "execution_count": 21
        }
      ]
    },
    {
      "cell_type": "code",
      "metadata": {
        "colab": {
          "base_uri": "https://localhost:8080/",
          "height": 221
        },
        "id": "ET1BAxQuvYch",
        "outputId": "ce6baeea-37f8-44f8-af9f-7689bf1d6f49"
      },
      "source": [
        "df.head().T.tail()"
      ],
      "execution_count": 22,
      "outputs": [
        {
          "output_type": "execute_result",
          "data": {
            "text/html": [
              "<div>\n",
              "<style scoped>\n",
              "    .dataframe tbody tr th:only-of-type {\n",
              "        vertical-align: middle;\n",
              "    }\n",
              "\n",
              "    .dataframe tbody tr th {\n",
              "        vertical-align: top;\n",
              "    }\n",
              "\n",
              "    .dataframe thead th {\n",
              "        text-align: right;\n",
              "    }\n",
              "</style>\n",
              "<table border=\"1\" class=\"dataframe\">\n",
              "  <thead>\n",
              "    <tr style=\"text-align: right;\">\n",
              "      <th></th>\n",
              "      <th>0</th>\n",
              "      <th>1</th>\n",
              "      <th>2</th>\n",
              "      <th>3</th>\n",
              "      <th>4</th>\n",
              "    </tr>\n",
              "  </thead>\n",
              "  <tbody>\n",
              "    <tr>\n",
              "      <th>mouth_center_top_lip_x</th>\n",
              "      <td>43.3126</td>\n",
              "      <td>46.6846</td>\n",
              "      <td>47.2749</td>\n",
              "      <td>50.3032</td>\n",
              "      <td>44.9627</td>\n",
              "    </tr>\n",
              "    <tr>\n",
              "      <th>mouth_center_top_lip_y</th>\n",
              "      <td>72.9355</td>\n",
              "      <td>70.2666</td>\n",
              "      <td>70.1918</td>\n",
              "      <td>70.0917</td>\n",
              "      <td>73.7074</td>\n",
              "    </tr>\n",
              "    <tr>\n",
              "      <th>mouth_center_bottom_lip_x</th>\n",
              "      <td>43.1307</td>\n",
              "      <td>45.4679</td>\n",
              "      <td>47.2749</td>\n",
              "      <td>51.5612</td>\n",
              "      <td>44.2271</td>\n",
              "    </tr>\n",
              "    <tr>\n",
              "      <th>mouth_center_bottom_lip_y</th>\n",
              "      <td>84.4858</td>\n",
              "      <td>85.4802</td>\n",
              "      <td>78.6594</td>\n",
              "      <td>78.2684</td>\n",
              "      <td>86.8712</td>\n",
              "    </tr>\n",
              "    <tr>\n",
              "      <th>Image</th>\n",
              "      <td>238 236 237 238 240 240 239 241 241 243 240 23...</td>\n",
              "      <td>219 215 204 196 204 211 212 200 180 168 178 19...</td>\n",
              "      <td>144 142 159 180 188 188 184 180 167 132 84 59 ...</td>\n",
              "      <td>193 192 193 194 194 194 193 192 168 111 50 12 ...</td>\n",
              "      <td>147 148 160 196 215 214 216 217 219 220 206 18...</td>\n",
              "    </tr>\n",
              "  </tbody>\n",
              "</table>\n",
              "</div>"
            ],
            "text/plain": [
              "                                                                           0  ...                                                  4\n",
              "mouth_center_top_lip_x                                               43.3126  ...                                            44.9627\n",
              "mouth_center_top_lip_y                                               72.9355  ...                                            73.7074\n",
              "mouth_center_bottom_lip_x                                            43.1307  ...                                            44.2271\n",
              "mouth_center_bottom_lip_y                                            84.4858  ...                                            86.8712\n",
              "Image                      238 236 237 238 240 240 239 241 241 243 240 23...  ...  147 148 160 196 215 214 216 217 219 220 206 18...\n",
              "\n",
              "[5 rows x 5 columns]"
            ]
          },
          "metadata": {
            "tags": []
          },
          "execution_count": 22
        }
      ]
    },
    {
      "cell_type": "code",
      "metadata": {
        "id": "jzLBjF74yWLd"
      },
      "source": [
        "# df.shape\r\n",
        "# (2140, 31)\r\n",
        "\r\n",
        "# print(type(df['Image']))\r\n",
        "# <class 'pandas.core.series.Series'>\r\n",
        "\r\n",
        "# len(df['Image'][0])\r\n",
        "# 33593\r\n",
        "\r\n",
        "# df['Image'][0][0]\r\n",
        "# '2'\r\n",
        "\r\n",
        "# type(df['Image'][0][0])\r\n",
        "# str\r\n",
        "\r\n",
        "# df['Image'][0][3]\r\n",
        "# ' '\r\n",
        "\r\n",
        "# type(df['Image'][0][3])\r\n",
        "# str"
      ],
      "execution_count": 23,
      "outputs": []
    },
    {
      "cell_type": "code",
      "metadata": {
        "id": "o5y8Go1jjDHJ"
      },
      "source": [
        "X = df['Image'].str.split(' ')\r\n",
        "\r\n",
        "# print(type(X))\r\n",
        "# <class 'pandas.core.series.Series'>\r\n",
        "\r\n",
        "# len(X)\r\n",
        "# 2140\r\n",
        "\r\n",
        "# len(X[0])\r\n",
        "# 9216\r\n",
        "\r\n",
        "# X[0][0]\r\n",
        "# '238'\r\n",
        "\r\n",
        "# type(X[0][0])\r\n",
        "# str\r\n",
        "\r\n",
        "# X[0][3]\r\n",
        "# '238'\r\n",
        "\r\n",
        "# type(X[0][3])\r\n",
        "# str"
      ],
      "execution_count": 24,
      "outputs": []
    },
    {
      "cell_type": "code",
      "metadata": {
        "colab": {
          "base_uri": "https://localhost:8080/"
        },
        "id": "mLcxPweYxMtX",
        "outputId": "251fe520-758e-4162-bd58-1e8c9f22b8bd"
      },
      "source": [
        "print(X[0])"
      ],
      "execution_count": 26,
      "outputs": [
        {
          "output_type": "stream",
          "text": [
            "['238', '236', '237', '238', '240', '240', '239', '241', '241', '243', '240', '239', '231', '212', '190', '173', '148', '122', '104', '92', '79', '73', '74', '73', '73', '74', '81', '74', '60', '64', '75', '86', '93', '102', '100', '105', '109', '114', '121', '127', '132', '134', '137', '137', '140', '139', '138', '137', '137', '140', '141', '143', '144', '147', '148', '149', '147', '147', '148', '145', '147', '144', '146', '147', '147', '143', '134', '130', '130', '128', '116', '104', '98', '90', '82', '78', '85', '88', '86', '80', '77', '87', '108', '111', '115', '128', '133', '188', '242', '252', '250', '248', '251', '250', '250', '250', '235', '238', '236', '238', '238', '237', '238', '242', '241', '239', '237', '233', '215', '195', '187', '156', '119', '103', '93', '78', '68', '73', '75', '75', '72', '75', '70', '61', '66', '77', '91', '96', '106', '108', '113', '120', '125', '131', '134', '138', '135', '138', '139', '145', '144', '144', '142', '140', '141', '141', '148', '147', '150', '149', '152', '151', '149', '150', '147', '148', '144', '148', '144', '146', '146', '143', '139', '128', '132', '135', '128', '112', '104', '97', '87', '78', '79', '83', '85', '83', '75', '75', '89', '109', '111', '117', '117', '130', '194', '243', '251', '249', '250', '249', '250', '251', '237', '236', '237', '238', '237', '238', '241', '238', '238', '238', '241', '221', '195', '187', '163', '124', '106', '95', '81', '68', '70', '73', '73', '72', '73', '69', '65', '74', '82', '94', '103', '110', '111', '119', '127', '135', '140', '139', '144', '144', '145', '143', '143', '143', '146', '144', '144', '147', '146', '148', '147', '150', '146', '147', '150', '150', '149', '147', '147', '144', '147', '144', '149', '146', '144', '144', '144', '140', '131', '133', '133', '125', '110', '106', '96', '83', '79', '79', '86', '86', '81', '71', '73', '95', '112', '107', '111', '119', '139', '200', '245', '252', '252', '251', '251', '250', '236', '237', '237', '235', '236', '239', '239', '238', '239', '240', '232', '201', '182', '164', '121', '103', '99', '83', '70', '67', '72', '73', '74', '73', '68', '67', '75', '84', '96', '107', '112', '116', '121', '131', '137', '143', '146', '147', '146', '145', '148', '148', '147', '143', '148', '149', '148', '148', '147', '148', '149', '151', '152', '153', '149', '149', '149', '147', '147', '150', '151', '148', '150', '147', '149', '147', '145', '146', '141', '129', '129', '129', '115', '108', '108', '92', '78', '80', '84', '88', '87', '78', '73', '74', '98', '111', '104', '114', '128', '145', '201', '245', '253', '251', '251', '250', '235', '236', '236', '236', '237', '239', '239', '239', '239', '234', '215', '186', '154', '124', '103', '92', '80', '69', '65', '68', '69', '73', '72', '71', '67', '75', '86', '96', '107', '112', '123', '130', '141', '143', '148', '149', '150', '151', '147', '147', '145', '150', '147', '147', '147', '147', '148', '149', '149', '148', '153', '152', '155', '150', '153', '153', '152', '153', '149', '150', '148', '154', '149', '152', '151', '149', '147', '144', '147', '140', '135', '127', '124', '114', '114', '102', '83', '80', '82', '86', '88', '87', '75', '71', '79', '102', '110', '109', '121', '129', '145', '209', '247', '251', '250', '251', '235', '233', '236', '235', '237', '236', '239', '237', '235', '225', '205', '161', '120', '105', '95', '85', '75', '66', '66', '69', '68', '66', '65', '67', '76', '85', '97', '109', '114', '126', '132', '141', '142', '145', '149', '152', '150', '148', '149', '147', '152', '145', '146', '148', '149', '150', '150', '150', '147', '152', '152', '153', '150', '153', '153', '153', '151', '149', '150', '147', '150', '149', '153', '152', '152', '151', '149', '152', '146', '147', '141', '137', '129', '122', '112', '109', '97', '82', '78', '81', '87', '87', '82', '73', '71', '84', '99', '106', '115', '136', '134', '148', '215', '248', '250', '249', '233', '235', '234', '234', '238', '239', '236', '239', '231', '213', '178', '124', '104', '92', '85', '78', '70', '71', '67', '67', '69', '68', '70', '76', '85', '99', '113', '120', '127', '134', '140', '145', '143', '147', '152', '153', '153', '152', '152', '154', '151', '151', '151', '152', '152', '153', '154', '153', '153', '152', '154', '155', '155', '156', '154', '156', '154', '153', '152', '154', '153', '152', '152', '153', '153', '151', '151', '150', '148', '147', '147', '143', '135', '129', '120', '112', '106', '92', '81', '78', '87', '89', '88', '77', '71', '75', '92', '106', '107', '123', '142', '129', '164', '225', '248', '249', '234', '237', '234', '235', '236', '237', '235', '236', '222', '191', '140', '102', '91', '84', '80', '71', '69', '73', '68', '66', '65', '69', '75', '90', '101', '113', '121', '130', '139', '141', '145', '145', '146', '146', '151', '151', '153', '155', '152', '152', '150', '157', '153', '155', '153', '156', '155', '155', '154', '153', '157', '156', '160', '155', '156', '155', '156', '156', '153', '159', '157', '156', '153', '155', '154', '153', '153', '152', '152', '147', '150', '144', '144', '137', '129', '117', '109', '103', '90', '81', '83', '88', '86', '84', '70', '70', '84', '95', '100', '107', '126', '144', '148', '186', '238', '250', '234', '233', '232', '232', '236', '236', '236', '233', '219', '158', '107', '90', '85', '83', '71', '66', '68', '69', '67', '69', '71', '74', '93', '105', '116', '123', '131', '138', '140', '145', '141', '148', '148', '148', '148', '154', '151', '149', '151', '149', '153', '151', '154', '151', '152', '155', '154', '153', '152', '157', '153', '159', '157', '159', '156', '155', '159', '155', '157', '156', '159', '154', '156', '156', '158', '157', '154', '155', '154', '152', '147', '147', '145', '146', '136', '129', '123', '108', '95', '84', '83', '87', '87', '86', '82', '71', '72', '82', '96', '101', '105', '132', '145', '148', '203', '240', '234', '234', '233', '233', '237', '235', '228', '225', '185', '114', '86', '83', '78', '74', '66', '65', '66', '66', '69', '72', '78', '99', '115', '123', '128', '134', '139', '140', '143', '144', '146', '147', '147', '151', '152', '152', '151', '153', '153', '153', '155', '155', '150', '153', '153', '153', '154', '153', '153', '153', '156', '157', '157', '159', '156', '158', '161', '160', '161', '165', '160', '157', '156', '159', '160', '158', '159', '157', '154', '152', '152', '150', '146', '144', '141', '137', '130', '123', '106', '92', '90', '91', '92', '90', '87', '76', '70', '73', '88', '96', '100', '117', '135', '140', '168', '218', '232', '234', '234', '236', '234', '228', '226', '213', '146', '89', '84', '78', '72', '65', '64', '60', '59', '69', '73', '84', '104', '121', '124', '132', '136', '138', '141', '145', '146', '146', '151', '150', '152', '150', '147', '148', '151', '155', '157', '156', '154', '154', '149', '152', '154', '155', '153', '153', '155', '152', '155', '158', '159', '158', '158', '159', '160', '162', '160', '165', '163', '160', '157', '161', '160', '157', '161', '159', '157', '153', '153', '147', '148', '145', '145', '139', '133', '136', '121', '100', '89', '82', '86', '86', '83', '80', '72', '71', '81', '90', '97', '109', '120', '130', '150', '192', '233', '232', '233', '233', '230', '222', '216', '179', '99', '80', '83', '76', '69', '63', '64', '60', '64', '69', '75', '99', '124', '125', '131', '134', '141', '142', '145', '145', '146', '149', '147', '152', '149', '149', '146', '150', '153', '149', '154', '155', '156', '152', '153', '149', '153', '155', '155', '154', '149', '155', '159', '165', '161', '161', '160', '161', '161', '160', '163', '158', '163', '159', '159', '156', '156', '158', '157', '159', '154', '157', '151', '150', '146', '147', '144', '141', '137', '135', '134', '114', '94', '84', '83', '85', '81', '81', '74', '70', '80', '88', '89', '103', '119', '123', '136', '170', '233', '235', '235', '231', '223', '221', '204', '138', '89', '89', '78', '67', '65', '60', '61', '65', '69', '74', '93', '119', '124', '128', '135', '141', '143', '146', '145', '144', '147', '147', '149', '148', '148', '147', '148', '148', '150', '151', '149', '153', '153', '154', '151', '149', '151', '156', '156', '154', '156', '156', '160', '161', '163', '161', '160', '162', '163', '162', '158', '157', '155', '158', '156', '157', '158', '159', '160', '156', '153', '152', '150', '147', '148', '149', '146', '144', '141', '141', '136', '129', '108', '95', '85', '83', '82', '84', '84', '72', '73', '81', '82', '91', '106', '117', '130', '146', '232', '233', '233', '232', '219', '217', '177', '109', '97', '89', '70', '62', '61', '57', '60', '62', '63', '78', '107', '127', '131', '135', '135', '144', '146', '147', '147', '149', '152', '150', '149', '148', '150', '147', '149', '146', '149', '153', '150', '152', '153', '154', '154', '152', '150', '157', '159', '158', '158', '157', '160', '157', '159', '156', '158', '161', '160', '162', '160', '159', '154', '155', '154', '158', '160', '160', '159', '156', '155', '152', '150', '151', '153', '150', '149', '147', '147', '143', '140', '136', '121', '106', '88', '81', '81', '81', '82', '76', '72', '77', '80', '82', '92', '106', '123', '133', '232', '233', '235', '229', '219', '195', '144', '107', '88', '75', '62', '59', '58', '59', '56', '51', '62', '92', '121', '132', '138', '139', '147', '148', '151', '148', '150', '152', '150', '153', '150', '152', '149', '153', '149', '152', '154', '153', '156', '155', '159', '156', '156', '150', '151', '156', '159', '162', '163', '163', '157', '158', '157', '161', '161', '163', '159', '159', '161', '155', '156', '153', '155', '156', '161', '162', '159', '157', '153', '154', '151', '153', '150', '152', '150', '151', '151', '145', '143', '136', '131', '112', '98', '85', '84', '81', '80', '79', '71', '77', '81', '80', '86', '96', '114', '122', '233', '233', '232', '227', '212', '168', '125', '94', '79', '68', '59', '56', '53', '56', '51', '57', '73', '103', '125', '138', '144', '152', '153', '155', '153', '154', '152', '154', '153', '152', '156', '154', '155', '153', '155', '157', '158', '160', '159', '162', '157', '156', '155', '158', '155', '154', '157', '156', '159', '159', '161', '159', '160', '159', '159', '163', '161', '161', '158', '160', '156', '157', '154', '157', '157', '157', '158', '154', '155', '152', '156', '150', '150', '154', '152', '150', '149', '150', '143', '141', '132', '123', '108', '95', '87', '83', '78', '79', '75', '74', '78', '81', '87', '88', '107', '116', '232', '233', '232', '223', '195', '152', '110', '80', '74', '71', '61', '53', '50', '48', '48', '59', '84', '111', '130', '146', '151', '153', '153', '155', '154', '154', '153', '154', '155', '155', '157', '159', '159', '156', '157', '158', '160', '164', '163', '160', '157', '156', '158', '160', '159', '160', '158', '156', '155', '157', '159', '157', '158', '157', '158', '162', '162', '161', '161', '159', '157', '159', '160', '160', '160', '161', '157', '155', '155', '154', '155', '152', '152', '151', '151', '150', '151', '152', '149', '143', '134', '127', '115', '109', '94', '83', '77', '77', '76', '71', '75', '79', '84', '83', '99', '112', '232', '230', '230', '210', '173', '134', '98', '77', '70', '66', '60', '49', '46', '46', '44', '58', '93', '120', '140', '153', '159', '156', '154', '150', '155', '153', '152', '152', '155', '162', '160', '164', '162', '164', '161', '163', '161', '165', '166', '159', '158', '153', '158', '158', '163', '164', '161', '160', '156', '156', '157', '160', '158', '164', '160', '162', '161', '160', '162', '156', '161', '163', '167', '163', '161', '163', '159', '159', '154', '155', '153', '158', '153', '152', '150', '151', '155', '152', '152', '147', '145', '128', '120', '120', '105', '80', '74', '75', '72', '70', '72', '76', '81', '81', '92', '104', '230', '230', '221', '191', '151', '112', '85', '77', '70', '62', '52', '47', '43', '41', '41', '63', '103', '128', '148', '158', '158', '155', '152', '154', '154', '155', '155', '156', '161', '162', '164', '162', '166', '166', '167', '163', '164', '167', '164', '164', '160', '159', '158', '163', '165', '168', '164', '159', '158', '154', '159', '161', '165', '162', '163', '161', '160', '162', '161', '162', '161', '168', '169', '167', '161', '159', '160', '161', '163', '157', '159', '156', '155', '152', '152', '152', '150', '153', '150', '152', '147', '137', '124', '120', '112', '90', '74', '72', '72', '71', '71', '72', '76', '83', '90', '97', '230', '226', '209', '183', '143', '94', '72', '73', '64', '57', '47', '41', '41', '40', '45', '76', '115', '139', '152', '158', '159', '156', '154', '155', '158', '160', '161', '162', '164', '164', '163', '167', '169', '164', '160', '164', '167', '169', '168', '167', '167', '167', '167', '167', '168', '169', '161', '157', '156', '157', '160', '163', '163', '164', '166', '163', '163', '161', '161', '163', '165', '170', '171', '170', '168', '165', '161', '163', '165', '165', '160', '157', '155', '153', '152', '150', '150', '152', '153', '151', '149', '138', '124', '119', '117', '100', '76', '69', '74', '69', '66', '70', '74', '79', '83', '96', '232', '222', '201', '172', '121', '73', '70', '70', '63', '52', '37', '40', '41', '33', '44', '90', '126', '146', '157', '160', '160', '158', '161', '159', '161', '161', '163', '163', '162', '163', '162', '165', '162', '159', '155', '164', '167', '168', '171', '167', '167', '165', '169', '168', '172', '168', '164', '162', '159', '162', '165', '168', '164', '167', '167', '168', '165', '165', '167', '164', '169', '169', '172', '171', '173', '174', '171', '169', '169', '173', '165', '162', '155', '154', '151', '147', '149', '151', '156', '152', '152', '141', '128', '123', '120', '104', '83', '72', '73', '71', '65', '66', '70', '75', '77', '93', '230', '217', '197', '154', '97', '66', '73', '68', '59', '46', '37', '38', '37', '33', '55', '98', '130', '150', '157', '158', '155', '159', '157', '162', '159', '161', '161', '161', '156', '156', '161', '159', '153', '141', '149', '156', '160', '164', '166', '168', '166', '169', '166', '172', '173', '169', '168', '165', '166', '164', '171', '167', '167', '165', '167', '165', '163', '166', '164', '166', '166', '167', '165', '171', '171', '176', '178', '170', '169', '166', '169', '164', '162', '157', '155', '152', '150', '153', '155', '157', '151', '144', '128', '126', '123', '108', '88', '73', '73', '71', '66', '67', '68', '74', '77', '88', '222', '208', '182', '135', '91', '70', '75', '66', '54', '44', '37', '38', '36', '29', '56', '106', '137', '149', '156', '157', '159', '158', '155', '154', '153', '150', '149', '146', '147', '148', '148', '148', '142', '137', '147', '154', '154', '158', '163', '163', '161', '164', '169', '170', '171', '170', '170', '167', '164', '167', '169', '172', '168', '164', '162', '162', '161', '162', '163', '164', '161', '157', '158', '163', '164', '173', '176', '172', '166', '169', '168', '166', '163', '161', '158', '154', '151', '154', '155', '157', '156', '147', '132', '128', '125', '111', '89', '74', '72', '71', '67', '67', '65', '70', '77', '88', '221', '201', '164', '116', '83', '70', '74', '64', '52', '44', '36', '35', '32', '30', '63', '113', '139', '150', '157', '155', '152', '144', '136', '130', '133', '133', '131', '132', '132', '133', '126', '122', '122', '129', '130', '133', '137', '145', '151', '150', '150', '152', '165', '168', '168', '164', '166', '167', '162', '164', '167', '170', '164', '159', '159', '161', '161', '161', '161', '160', '157', '154', '155', '151', '148', '155', '158', '163', '164', '169', '163', '162', '161', '161', '157', '155', '154', '149', '154', '157', '159', '148', '136', '129', '126', '108', '87', '74', '67', '69', '69', '64', '62', '67', '74', '84', '218', '189', '137', '101', '75', '68', '73', '59', '51', '42', '32', '31', '29', '33', '77', '119', '137', '148', '153', '148', '135', '127', '117', '114', '110', '112', '114', '114', '114', '116', '115', '103', '96', '94', '96', '97', '107', '122', '129', '134', '139', '151', '157', '163', '165', '167', '167', '164', '163', '159', '163', '160', '159', '155', '155', '152', '154', '156', '155', '159', '155', '150', '143', '137', '129', '133', '144', '149', '151', '149', '150', '150', '155', '154', '157', '159', '157', '156', '151', '155', '155', '154', '139', '130', '124', '110', '87', '69', '65', '67', '69', '67', '60', '62', '72', '82', '216', '171', '121', '97', '74', '72', '71', '58', '51', '41', '32', '32', '26', '36', '79', '124', '138', '137', '127', '115', '113', '106', '101', '101', '104', '104', '98', '92', '98', '100', '97', '95', '85', '77', '75', '74', '84', '104', '116', '121', '130', '148', '162', '161', '160', '162', '165', '163', '160', '162', '161', '159', '154', '151', '146', '142', '143', '145', '148', '143', '140', '133', '123', '114', '112', '117', '124', '127', '127', '129', '129', '129', '129', '133', '143', '152', '159', '161', '156', '150', '155', '152', '145', '130', '126', '110', '84', '67', '61', '64', '71', '69', '61', '60', '73', '83', '209', '157', '117', '92', '69', '72', '73', '60', '50', '38', '30', '30', '24', '40', '88', '123', '125', '121', '109', '99', '98', '100', '99', '96', '101', '99', '97', '99', '99', '98', '93', '84', '75', '73', '70', '70', '78', '94', '107', '112', '120', '134', '152', '156', '153', '151', '158', '157', '153', '156', '159', '159', '156', '146', '135', '137', '138', '141', '137', '130', '118', '115', '109', '99', '94', '95', '103', '110', '115', '121', '119', '115', '117', '122', '123', '128', '144', '157', '160', '154', '152', '149', '144', '131', '130', '109', '78', '61', '61', '69', '69', '69', '60', '59', '70', '80', '197', '145', '112', '85', '68', '73', '70', '58', '49', '42', '31', '28', '23', '42', '94', '116', '123', '120', '108', '100', '102', '112', '107', '100', '95', '93', '96', '99', '92', '88', '86', '81', '77', '74', '75', '73', '73', '79', '90', '98', '109', '126', '137', '149', '143', '143', '153', '153', '148', '147', '154', '154', '151', '132', '127', '133', '133', '135', '128', '115', '105', '100', '94', '88', '85', '91', '93', '102', '114', '116', '120', '119', '119', '115', '117', '118', '123', '146', '158', '156', '148', '149', '143', '136', '125', '103', '74', '55', '61', '69', '65', '66', '57', '56', '70', '79', '183', '137', '106', '80', '68', '69', '68', '55', '47', '41', '34', '31', '22', '49', '94', '113', '117', '116', '111', '106', '106', '106', '107', '104', '103', '103', '95', '88', '90', '89', '87', '86', '84', '79', '77', '80', '83', '84', '84', '92', '109', '117', '130', '139', '134', '138', '147', '153', '156', '152', '145', '147', '136', '121', '114', '123', '129', '127', '118', '102', '92', '88', '84', '77', '80', '94', '95', '91', '92', '103', '116', '124', '123', '126', '128', '127', '122', '125', '139', '144', '147', '143', '142', '135', '120', '98', '70', '57', '65', '69', '62', '66', '59', '56', '67', '77', '168', '126', '99', '79', '69', '68', '63', '53', '49', '43', '37', '28', '26', '56', '99', '108', '102', '109', '115', '116', '114', '111', '110', '112', '113', '113', '109', '103', '99', '99', '96', '93', '89', '86', '82', '84', '89', '89', '90', '92', '99', '108', '120', '125', '126', '134', '147', '153', '159', '157', '145', '135', '132', '126', '123', '127', '121', '115', '108', '95', '83', '80', '80', '79', '84', '89', '96', '97', '96', '107', '123', '130', '132', '138', '130', '122', '118', '120', '133', '135', '138', '141', '141', '130', '118', '95', '66', '56', '68', '70', '60', '63', '62', '56', '65', '78', '150', '118', '94', '73', '67', '68', '61', '56', '49', '44', '39', '27', '27', '60', '98', '106', '108', '110', '115', '121', '119', '119', '114', '115', '113', '114', '117', '119', '115', '110', '108', '105', '101', '94', '93', '93', '96', '97', '98', '100', '98', '106', '115', '124', '128', '138', '150', '157', '161', '159', '151', '135', '136', '134', '129', '123', '111', '104', '103', '100', '93', '96', '95', '96', '98', '100', '105', '107', '108', '113', '121', '122', '122', '121', '121', '118', '119', '124', '127', '135', '134', '136', '137', '127', '116', '95', '63', '57', '67', '68', '57', '57', '61', '58', '62', '72', '139', '105', '86', '72', '66', '64', '62', '56', '51', '45', '38', '29', '29', '65', '98', '110', '113', '118', '119', '119', '119', '118', '121', '119', '120', '118', '112', '108', '105', '102', '99', '97', '89', '84', '83', '89', '96', '98', '102', '104', '108', '110', '119', '124', '135', '146', '154', '159', '161', '158', '141', '135', '133', '127', '116', '111', '111', '112', '112', '109', '108', '108', '107', '106', '108', '112', '113', '114', '119', '123', '119', '120', '116', '117', '117', '123', '129', '125', '125', '131', '135', '131', '128', '122', '115', '94', '64', '60', '70', '61', '52', '54', '57', '57', '59', '71', '130', '99', '80', '73', '66', '64', '61', '53', '52', '49', '42', '28', '33', '71', '106', '112', '115', '117', '116', '117', '116', '117', '117', '105', '95', '95', '98', '96', '96', '97', '97', '97', '96', '91', '83', '77', '84', '93', '101', '106', '110', '112', '115', '124', '137', '151', '162', '164', '164', '162', '148', '133', '128', '119', '112', '114', '115', '118', '115', '112', '110', '109', '112', '115', '117', '118', '123', '121', '120', '121', '120', '123', '124', '122', '121', '127', '128', '125', '126', '126', '129', '130', '128', '124', '113', '90', '63', '58', '66', '55', '45', '53', '57', '55', '61', '73', '119', '94', '77', '71', '67', '61', '55', '54', '50', '47', '38', '28', '38', '74', '114', '120', '119', '119', '116', '118', '116', '102', '91', '94', '101', '102', '98', '90', '84', '86', '84', '83', '100', '112', '111', '97', '83', '84', '94', '105', '110', '114', '117', '130', '142', '155', '160', '161', '162', '163', '159', '140', '125', '115', '117', '118', '119', '116', '108', '103', '96', '93', '89', '97', '104', '111', '114', '117', '123', '124', '124', '121', '124', '120', '123', '124', '121', '127', '129', '123', '119', '120', '121', '122', '112', '92', '62', '54', '61', '52', '45', '48', '55', '55', '61', '74', '113', '88', '81', '72', '66', '61', '56', '52', '52', '48', '39', '30', '34', '87', '130', '134', '127', '122', '119', '113', '90', '88', '114', '111', '93', '87', '97', '86', '65', '65', '71', '67', '66', '80', '99', '108', '99', '89', '92', '100', '109', '111', '121', '132', '151', '154', '156', '157', '155', '158', '150', '139', '127', '124', '122', '120', '115', '109', '101', '89', '86', '91', '101', '104', '107', '111', '106', '98', '102', '112', '112', '117', '120', '122', '120', '120', '122', '126', '129', '122', '120', '122', '125', '118', '113', '93', '68', '59', '57', '49', '45', '49', '55', '56', '58', '68', '106', '87', '82', '71', '63', '60', '54', '52', '51', '48', '43', '27', '37', '95', '138', '135', '125', '120', '113', '89', '83', '109', '107', '81', '84', '128', '140', '89', '96', '96', '58', '90', '90', '74', '96', '100', '105', '103', '97', '101', '108', '114', '120', '139', '154', '157', '156', '153', '154', '154', '150', '135', '129', '129', '123', '116', '110', '101', '93', '92', '103', '113', '116', '107', '102', '102', '92', '88', '99', '102', '107', '109', '105', '107', '115', '118', '119', '125', '126', '125', '126', '127', '126', '123', '115', '94', '65', '56', '56', '43', '41', '46', '53', '54', '58', '70', '99', '88', '78', '67', '60', '59', '54', '51', '52', '48', '41', '24', '44', '104', '139', '135', '128', '118', '104', '96', '100', '92', '72', '85', '124', '166', '146', '77', '86', '96', '72', '84', '85', '83', '135', '125', '94', '104', '110', '111', '111', '115', '127', '149', '157', '158', '150', '150', '153', '156', '150', '134', '131', '126', '121', '113', '108', '101', '99', '107', '112', '109', '98', '95', '82', '74', '74', '78', '84', '84', '90', '97', '109', '108', '100', '111', '116', '115', '121', '126', '126', '124', '123', '123', '111', '96', '64', '51', '53', '41', '41', '47', '53', '54', '57', '72', '94', '85', '78', '65', '60', '58', '52', '49', '51', '48', '37', '29', '50', '116', '142', '142', '129', '118', '113', '112', '101', '92', '96', '111', '139', '168', '151', '83', '74', '81', '80', '85', '76', '91', '147', '145', '109', '92', '107', '118', '120', '117', '141', '156', '160', '155', '152', '149', '149', '156', '148', '138', '130', '127', '121', '114', '113', '110', '113', '111', '100', '110', '135', '110', '91', '88', '89', '88', '78', '99', '111', '94', '101', '116', '102', '93', '108', '114', '116', '120', '128', '128', '128', '120', '113', '94', '66', '54', '51', '39', '37', '48', '52', '54', '57', '71', '95', '84', '71', '62', '61', '59', '52', '49', '51', '46', '33', '24', '64', '125', '153', '147', '134', '122', '117', '121', '126', '131', '122', '120', '129', '152', '157', '116', '82', '81', '88', '88', '85', '114', '138', '127', '109', '95', '101', '121', '121', '128', '150', '164', '160', '155', '149', '146', '148', '153', '150', '139', '134', '128', '124', '123', '123', '118', '107', '98', '114', '163', '155', '96', '126', '93', '72', '125', '98', '90', '145', '130', '96', '86', '103', '97', '92', '113', '122', '125', '129', '129', '131', '129', '116', '95', '66', '51', '50', '37', '34', '47', '54', '49', '58', '72', '88', '82', '71', '59', '56', '56', '48', '50', '52', '44', '29', '25', '79', '140', '159', '150', '138', '129', '128', '131', '136', '138', '131', '122', '112', '113', '122', '123', '112', '107', '105', '110', '119', '126', '122', '114', '110', '109', '116', '124', '123', '137', '157', '165', '159', '155', '147', '142', '146', '150', '149', '141', '135', '128', '130', '131', '121', '107', '103', '106', '131', '164', '142', '86', '100', '86', '66', '94', '90', '88', '144', '156', '115', '84', '87', '97', '94', '105', '121', '124', '129', '131', '134', '134', '118', '97', '62', '48', '47', '34', '33', '45', '52', '51', '58', '69', '85', '77', '67', '57', '56', '54', '49', '48', '53', '43', '28', '37', '93', '156', '160', '153', '145', '143', '141', '139', '140', '140', '140', '131', '122', '111', '112', '113', '115', '116', '121', '128', '125', '122', '114', '116', '121', '125', '128', '128', '133', '144', '165', '167', '165', '152', '145', '144', '146', '149', '148', '146', '136', '133', '128', '132', '120', '106', '105', '109', '123', '148', '144', '97', '91', '89', '83', '90', '78', '95', '158', '159', '125', '98', '85', '93', '105', '104', '114', '123', '130', '132', '141', '134', '120', '95', '62', '52', '47', '34', '32', '41', '47', '52', '60', '65', '81', '75', '61', '53', '56', '53', '43', '44', '47', '41', '30', '45', '122', '161', '163', '155', '153', '153', '151', '149', '146', '146', '139', '135', '130', '127', '125', '124', '121', '119', '118', '115', '112', '107', '112', '113', '113', '118', '128', '135', '143', '157', '162', '170', '158', '152', '146', '148', '148', '147', '153', '144', '136', '134', '132', '132', '131', '129', '122', '120', '121', '132', '139', '120', '99', '100', '99', '87', '80', '131', '171', '153', '128', '113', '107', '102', '109', '118', '119', '123', '127', '135', '140', '140', '123', '95', '60', '48', '50', '36', '34', '42', '48', '47', '59', '66', '77', '69', '57', '52', '54', '52', '46', '46', '46', '41', '29', '64', '136', '164', '164', '160', '157', '157', '157', '155', '148', '146', '140', '136', '128', '122', '120', '123', '126', '126', '125', '124', '120', '118', '119', '116', '118', '131', '139', '143', '153', '159', '168', '177', '158', '151', '151', '152', '147', '149', '154', '144', '137', '139', '139', '133', '126', '129', '127', '121', '124', '126', '128', '131', '127', '122', '112', '105', '114', '131', '133', '126', '123', '127', '130', '125', '122', '123', '124', '127', '133', '145', '150', '145', '125', '96', '61', '49', '52', '37', '33', '40', '45', '47', '55', '59', '75', '66', '55', '50', '52', '47', '46', '46', '47', '41', '31', '86', '148', '168', '165', '163', '158', '163', '161', '156', '154', '151', '153', '146', '144', '141', '139', '141', '143', '142', '139', '135', '126', '123', '121', '128', '133', '143', '147', '153', '159', '159', '169', '168', '160', '152', '150', '147', '149', '153', '156', '152', '142', '146', '145', '140', '128', '124', '125', '121', '121', '120', '128', '125', '129', '129', '125', '122', '114', '111', '114', '129', '132', '137', '142', '144', '137', '132', '130', '134', '146', '150', '153', '144', '132', '96', '57', '47', '49', '39', '34', '37', '40', '47', '55', '56', '75', '66', '53', '50', '52', '48', '41', '43', '48', '37', '48', '108', '161', '168', '167', '163', '166', '166', '162', '155', '151', '153', '148', '149', '146', '148', '145', '144', '143', '142', '141', '134', '130', '129', '138', '142', '148', '147', '152', '162', '158', '158', '163', '167', '155', '151', '150', '148', '152', '157', '154', '147', '144', '141', '147', '145', '140', '129', '124', '130', '128', '128', '128', '133', '135', '137', '138', '138', '137', '137', '137', '138', '141', '142', '149', '147', '143', '141', '139', '144', '147', '152', '149', '147', '133', '98', '59', '47', '48', '39', '35', '34', '38', '45', '55', '60', '73', '63', '51', '51', '51', '42', '39', '44', '46', '37', '67', '140', '168', '168', '167', '166', '164', '164', '165', '160', '157', '156', '154', '151', '149', '146', '144', '142', '143', '145', '141', '138', '137', '143', '149', '154', '156', '156', '162', '164', '159', '156', '159', '159', '154', '148', '148', '151', '153', '155', '150', '145', '143', '144', '145', '147', '146', '137', '131', '128', '130', '134', '138', '143', '142', '141', '142', '143', '142', '143', '142', '140', '141', '148', '151', '149', '152', '154', '156', '155', '154', '155', '155', '148', '134', '97', '59', '52', '51', '40', '36', '38', '40', '45', '53', '60', '67', '60', '52', '50', '48', '39', '37', '44', '42', '39', '89', '155', '168', '167', '164', '167', '163', '165', '164', '164', '161', '158', '157', '152', '150', '145', '145', '145', '144', '143', '140', '144', '146', '157', '157', '160', '160', '162', '165', '163', '159', '152', '151', '151', '156', '151', '154', '149', '146', '144', '141', '139', '140', '146', '146', '148', '147', '146', '142', '137', '135', '134', '142', '149', '152', '148', '148', '144', '142', '142', '139', '140', '145', '154', '154', '156', '160', '163', '165', '164', '162', '158', '159', '150', '136', '99', '59', '50', '54', '41', '34', '38', '41', '44', '52', '54', '62', '55', '48', '46', '42', '38', '37', '39', '39', '43', '117', '162', '169', '165', '168', '166', '167', '162', '164', '162', '156', '158', '152', '151', '147', '147', '146', '150', '148', '145', '148', '150', '156', '159', '163', '162', '164', '164', '164', '161', '154', '154', '154', '157', '147', '153', '157', '157', '149', '140', '137', '135', '139', '143', '150', '148', '150', '149', '149', '147', '138', '140', '139', '143', '147', '156', '157', '154', '154', '150', '150', '150', '156', '157', '162', '160', '161', '167', '168', '167', '162', '163', '157', '151', '139', '102', '55', '49', '51', '41', '33', '37', '40', '42', '50', '57', '61', '53', '47', '44', '41', '37', '36', '40', '33', '57', '133', '165', '168', '168', '166', '167', '164', '163', '160', '160', '159', '154', '151', '147', '147', '146', '150', '153', '154', '156', '154', '159', '162', '162', '163', '167', '164', '163', '163', '157', '155', '162', '173', '162', '150', '148', '151', '155', '154', '151', '140', '137', '137', '147', '147', '147', '148', '151', '155', '150', '147', '144', '142', '142', '147', '153', '155', '157', '158', '159', '158', '159', '158', '160', '162', '163', '168', '169', '168', '164', '164', '161', '157', '151', '142', '104', '59', '49', '53', '44', '33', '35', '37', '40', '50', '56', '60', '55', '48', '43', '40', '35', '34', '38', '34', '74', '142', '165', '168', '170', '165', '167', '166', '164', '161', '164', '163', '157', '153', '150', '153', '153', '156', '155', '157', '159', '161', '163', '162', '166', '169', '169', '163', '164', '159', '157', '156', '164', '173', '161', '154', '148', '151', '152', '155', '153', '141', '137', '138', '147', '149', '152', '149', '152', '152', '152', '153', '152', '151', '146', '147', '149', '149', '155', '156', '156', '155', '158', '156', '162', '164', '167', '172', '169', '166', '164', '168', '163', '160', '150', '140', '103', '58', '49', '53', '44', '38', '39', '39', '40', '46', '55', '59', '53', '48', '40', '37', '37', '38', '38', '32', '82', '147', '163', '166', '165', '167', '164', '166', '164', '166', '163', '160', '158', '151', '156', '157', '159', '156', '159', '160', '161', '162', '160', '163', '162', '171', '164', '160', '155', '154', '154', '155', '164', '165', '158', '152', '159', '152', '155', '154', '147', '140', '136', '141', '142', '149', '149', '152', '154', '153', '156', '152', '156', '153', '155', '151', '150', '151', '151', '154', '155', '159', '158', '161', '161', '167', '170', '171', '169', '165', '166', '163', '165', '157', '152', '146', '112', '59', '48', '51', '41', '36', '40', '42', '41', '43', '53', '58', '50', '45', '39', '37', '36', '36', '35', '33', '95', '155', '167', '164', '164', '166', '164', '161', '163', '163', '160', '160', '161', '163', '162', '162', '161', '164', '160', '162', '164', '163', '163', '161', '169', '167', '162', '152', '146', '146', '149', '156', '164', '167', '153', '152', '155', '154', '154', '155', '151', '141', '140', '138', '138', '146', '152', '155', '158', '159', '155', '156', '158', '158', '154', '154', '149', '153', '157', '152', '157', '160', '163', '164', '165', '165', '167', '168', '168', '165', '162', '162', '162', '160', '149', '149', '120', '68', '47', '47', '42', '35', '33', '38', '44', '44', '50', '56', '49', '42', '37', '36', '37', '39', '35', '35', '100', '159', '168', '166', '167', '165', '163', '163', '165', '160', '162', '161', '161', '164', '166', '164', '163', '166', '166', '164', '163', '163', '161', '162', '166', '162', '155', '145', '145', '144', '151', '159', '164', '164', '155', '156', '155', '160', '156', '153', '151', '144', '140', '136', '138', '142', '149', '153', '159', '162', '160', '158', '161', '163', '159', '158', '154', '157', '156', '151', '154', '157', '160', '163', '167', '165', '165', '164', '163', '160', '157', '159', '160', '159', '149', '149', '129', '82', '55', '48', '39', '34', '36', '34', '39', '47', '53', '54', '47', '40', '36', '36', '36', '39', '33', '34', '99', '161', '166', '165', '165', '168', '160', '162', '162', '160', '160', '160', '162', '163', '165', '163', '168', '165', '167', '163', '162', '162', '159', '162', '158', '156', '149', '149', '153', '155', '159', '166', '170', '161', '163', '158', '161', '162', '159', '151', '152', '146', '139', '140', '137', '137', '140', '146', '153', '159', '162', '159', '162', '161', '163', '159', '158', '160', '161', '157', '153', '161', '159', '163', '164', '168', '164', '163', '162', '160', '162', '158', '160', '153', '147', '144', '137', '87', '58', '48', '41', '35', '35', '37', '34', '43', '53', '53', '44', '39', '35', '34', '36', '37', '32', '32', '102', '160', '166', '161', '164', '163', '162', '162', '164', '158', '161', '166', '164', '168', '168', '169', '167', '166', '161', '162', '161', '157', '158', '155', '153', '148', '156', '163', '168', '169', '171', '180', '167', '165', '161', '163', '163', '165', '163', '156', '155', '149', '142', '135', '136', '132', '138', '146', '153', '157', '156', '160', '159', '158', '157', '160', '159', '161', '164', '163', '165', '164', '167', '163', '167', '165', '163', '162', '159', '158', '156', '154', '153', '150', '140', '144', '141', '99', '64', '50', '39', '34', '32', '39', '38', '39', '49', '55', '43', '37', '35', '33', '37', '39', '28', '32', '102', '157', '164', '159', '158', '158', '160', '163', '159', '158', '163', '164', '164', '166', '166', '164', '162', '165', '165', '164', '163', '158', '155', '150', '146', '148', '152', '151', '159', '162', '162', '164', '167', '172', '168', '164', '166', '169', '169', '161', '155', '154', '148', '145', '145', '138', '134', '142', '153', '155', '158', '158', '156', '155', '155', '160', '163', '164', '167', '169', '167', '165', '164', '164', '168', '165', '161', '162', '157', '150', '151', '152', '152', '147', '142', '142', '140', '111', '70', '50', '40', '35', '32', '37', '40', '41', '48', '51', '40', '34', '36', '35', '38', '39', '24', '27', '102', '156', '161', '157', '151', '155', '155', '153', '146', '155', '159', '162', '165', '163', '164', '162', '163', '162', '166', '159', '158', '157', '152', '148', '144', '148', '133', '126', '138', '146', '145', '150', '158', '165', '170', '164', '168', '166', '166', '159', '150', '147', '144', '149', '148', '150', '140', '138', '148', '151', '157', '158', '161', '156', '159', '161', '166', '162', '167', '168', '166', '169', '166', '164', '163', '164', '162', '165', '157', '149', '151', '149', '149', '145', '140', '138', '141', '112', '73', '52', '42', '41', '36', '37', '38', '35', '45', '48', '36', '34', '36', '35', '39', '40', '28', '29', '104', '156', '159', '154', '156', '156', '153', '142', '144', '151', '154', '159', '164', '166', '160', '164', '162', '163', '158', '158', '158', '156', '152', '144', '146', '139', '120', '92', '80', '111', '138', '148', '150', '159', '160', '158', '155', '157', '160', '152', '138', '131', '136', '139', '138', '138', '142', '141', '143', '148', '151', '157', '159', '164', '162', '164', '162', '162', '163', '166', '168', '166', '171', '165', '163', '162', '167', '162', '155', '151', '147', '149', '144', '143', '136', '133', '132', '109', '74', '50', '43', '41', '38', '39', '39', '35', '35', '48', '36', '34', '35', '35', '41', '41', '28', '26', '102', '158', '157', '152', '151', '152', '148', '144', '147', '151', '156', '161', '164', '164', '163', '162', '163', '161', '160', '161', '157', '151', '148', '143', '140', '131', '115', '92', '60', '47', '89', '133', '145', '148', '146', '140', '140', '146', '149', '136', '122', '123', '125', '122', '119', '124', '134', '139', '141', '145', '154', '156', '161', '163', '162', '162', '162', '166', '165', '168', '165', '169', '168', '165', '163', '160', '161', '158', '156', '153', '150', '145', '144', '140', '131', '131', '127', '103', '73', '52', '45', '42', '38', '37', '40', '37', '33', '43', '38', '38', '37', '39', '43', '43', '28', '21', '104', '162', '154', '150', '146', '143', '144', '146', '145', '146', '149', '157', '162', '164', '168', '164', '164', '158', '159', '157', '151', '146', '146', '144', '134', '128', '121', '110', '87', '58', '29', '72', '130', '133', '130', '130', '135', '137', '130', '117', '111', '104', '76', '68', '92', '117', '129', '134', '137', '147', '154', '154', '162', '163', '166', '162', '165', '165', '167', '167', '164', '168', '166', '165', '156', '159', '157', '154', '153', '155', '152', '145', '144', '141', '131', '126', '120', '96', '73', '55', '46', '45', '38', '34', '39', '39', '36', '43', '36', '35', '35', '40', '42', '41', '30', '31', '109', '158', '152', '150', '150', '142', '145', '145', '141', '143', '148', '156', '159', '167', '162', '162', '159', '157', '155', '155', '148', '146', '152', '144', '135', '121', '120', '121', '115', '98', '78', '99', '127', '120', '112', '115', '115', '114', '109', '99', '71', '46', '48', '68', '94', '111', '128', '134', '140', '149', '154', '157', '156', '163', '162', '166', '166', '165', '166', '164', '166', '163', '162', '156', '156', '155', '155', '151', '148', '150', '150', '146', '141', '138', '126', '123', '113', '90', '69', '56', '49', '45', '41', '37', '36', '38', '36', '38', '34', '35', '34', '34', '38', '39', '30', '32', '115', '159', '150', '151', '151', '146', '142', '140', '140', '143', '152', '160', '160', '159', '160', '158', '157', '156', '157', '154', '151', '149', '148', '144', '136', '125', '114', '121', '126', '125', '128', '133', '132', '123', '109', '102', '104', '103', '101', '101', '91', '82', '87', '104', '115', '124', '127', '127', '140', '152', '156', '151', '154', '155', '161', '167', '166', '164', '163', '162', '160', '161', '159', '157', '155', '151', '152', '151', '150', '148', '145', '141', '137', '131', '124', '122', '109', '79', '59', '55', '61', '56', '41', '36', '36', '35', '35', '37', '35', '33', '33', '33', '36', '39', '31', '32', '119', '159', '149', '153', '149', '147', '141', '140', '142', '148', '155', '160', '162', '160', '161', '155', '155', '152', '155', '152', '150', '150', '148', '146', '142', '138', '122', '117', '126', '135', '128', '129', '133', '131', '119', '106', '114', '117', '112', '115', '118', '117', '120', '123', '122', '121', '116', '123', '138', '151', '156', '154', '155', '156', '162', '162', '167', '164', '164', '161', '161', '160', '156', '154', '148', '149', '149', '148', '147', '148', '146', '141', '139', '127', '124', '124', '102', '69', '56', '57', '67', '62', '47', '40', '41', '36', '33', '39', '36', '34', '32', '32', '33', '38', '32', '39', '126', '158', '149', '150', '148', '140', '143', '142', '144', '147', '154', '161', '167', '168', '161', '158', '150', '153', '149', '150', '153', '152', '151', '144', '136', '128', '121', '111', '111', '103', '97', '110', '125', '132', '125', '123', '125', '129', '124', '112', '111', '112', '117', '116', '110', '107', '116', '128', '139', '150', '156', '158', '156', '161', '162', '166', '166', '167', '162', '160', '161', '156', '155', '150', '150', '143', '141', '139', '143', '145', '142', '142', '133', '127', '125', '117', '84', '59', '53', '56', '66', '69', '56', '41', '43', '37', '34', '37', '35', '32', '30', '31', '35', '43', '35', '44', '127', '155', '151', '151', '146', '144', '142', '145', '143', '149', '155', '163', '170', '162', '161', '158', '158', '153', '157', '156', '157', '156', '144', '124', '109', '106', '104', '96', '87', '77', '82', '93', '113', '129', '132', '133', '140', '136', '121', '100', '90', '89', '93', '108', '113', '120', '127', '134', '139', '146', '153', '155', '159', '158', '162', '166', '165', '165', '160', '160', '160', '158', '154', '150', '146', '143', '139', '141', '142', '143', '143', '139', '133', '129', '124', '104', '74', '57', '51', '61', '75', '76', '60', '41', '40', '40', '31', '38', '34', '33', '29', '30', '40', '57', '52', '56', '120', '148', '152', '148', '145', '142', '141', '145', '145', '151', '156', '164', '164', '160', '160', '157', '154', '156', '165', '163', '155', '147', '127', '104', '94', '90', '84', '80', '77', '75', '80', '85', '99', '125', '142', '146', '146', '131', '108', '93', '79', '63', '75', '92', '101', '111', '122', '134', '140', '147', '153', '155', '156', '156', '162', '162', '166', '164', '161', '160', '161', '158', '153', '149', '144', '144', '143', '144', '143', '143', '144', '140', '134', '132', '124', '81', '63', '63', '52', '68', '78', '79', '67', '43', '36', '38', '33', '43', '38', '31', '25', '29', '38', '62', '59', '60', '125', '153', '152', '146', '145', '143', '144', '141', '147', '149', '156', '159', '158', '162', '156', '156', '159', '168', '160', '151', '141', '129', '113', '97', '88', '79', '77', '77', '75', '74', '75', '84', '96', '117', '137', '151', '142', '117', '101', '93', '85', '71', '73', '82', '88', '94', '111', '129', '143', '150', '156', '158', '156', '160', '157', '164', '163', '165', '162', '159', '159', '155', '154', '149', '146', '141', '143', '146', '146', '144', '140', '140', '134', '133', '118', '72', '63', '63', '57', '71', '81', '83', '67', '42', '37', '38', '34', '46', '38', '24', '24', '27', '36', '53', '57', '68', '128', '148', '143', '143', '144', '143', '140', '145', '145', '148', '156', '160', '159', '147', '143', '156', '162', '149', '139', '129', '123', '110', '101', '90', '76', '73', '74', '74', '71', '69', '74', '82', '93', '111', '134', '141', '131', '107', '92', '86', '83', '71', '68', '73', '78', '84', '97', '120', '137', '145', '153', '157', '162', '157', '157', '154', '157', '163', '164', '160', '154', '155', '154', '154', '146', '143', '144', '146', '146', '143', '142', '139', '134', '133', '105', '68', '74', '64', '64', '75', '78', '84', '69', '46', '40', '38', '34', '41', '30', '24', '25', '23', '34', '50', '61', '78', '129', '144', '140', '138', '141', '144', '142', '140', '144', '151', '158', '160', '151', '139', '147', '151', '137', '128', '115', '102', '97', '93', '83', '75', '72', '72', '70', '71', '69', '65', '74', '84', '89', '102', '118', '123', '116', '109', '97', '82', '75', '70', '62', '62', '70', '81', '92', '110', '122', '135', '146', '149', '152', '157', '160', '150', '154', '161', '161', '157', '155', '154', '150', '150', '151', '149', '147', '147', '144', '140', '142', '138', '131', '132', '97', '72', '77', '69', '74', '74', '74', '84', '70', '49', '41', '36', '33', '35', '29', '22', '24', '23', '30', '55', '69', '87', '126', '141', '142', '138', '140', '140', '144', '145', '149', '156', '161', '158', '148', '146', '142', '126', '117', '109', '90', '82', '81', '80', '74', '65', '67', '67', '64', '65', '67', '68', '74', '86', '92', '112', '127', '123', '110', '111', '103', '87', '75', '70', '63', '59', '63', '73', '86', '94', '104', '117', '125', '131', '142', '153', '152', '150', '145', '156', '159', '153', '154', '154', '153', '147', '150', '147', '145', '143', '144', '141', '138', '136', '132', '123', '84', '73', '79', '78', '81', '75', '79', '83', '67', '54', '42', '34', '34', '30', '29', '21', '17', '18', '31', '51', '68', '90', '123', '136', '138', '142', '136', '139', '144', '150', '153', '159', '156', '150', '146', '146', '127', '104', '102', '86', '73', '70', '76', '72', '66', '66', '62', '62', '62', '59', '61', '65', '74', '86', '108', '125', '127', '115', '113', '113', '109', '89', '73', '67', '64', '63', '57', '64', '68', '72', '83', '96', '106', '110', '127', '140', '154', '154', '149', '149', '156', '156', '151', '155', '154', '150', '148', '149', '146', '146', '144', '139', '140', '133', '129', '118', '81', '70', '74', '80', '88', '78', '82', '90', '70', '51', '38', '32', '35', '31', '30', '24', '16', '12', '17', '39', '64', '93', '128', '135', '138', '139', '137', '138', '143', '148', '153', '156', '157', '148', '153', '150', '113', '87', '81', '76', '66', '66', '71', '64', '57', '62', '64', '60', '60', '59', '62', '62', '69', '98', '124', '133', '126', '121', '120', '118', '108', '90', '79', '66', '61', '61', '61', '64', '64', '62', '66', '79', '89', '93', '97', '116', '142', '156', '150', '141', '151', '156', '154', '154', '152', '149', '151', '146', '148', '146', '139', '138', '133', '130', '128', '118', '89', '90', '97', '107', '117', '99', '98', '95', '67', '45', '35', '33', '32', '40', '40', '32', '23', '15', '13', '22', '48', '86', '125', '136', '134', '128', '131', '136', '140', '144', '151', '155', '157', '151', '160', '137', '98', '79', '70', '68', '63', '65', '67', '62', '61', '64', '63', '58', '58', '60', '66', '63', '70', '107', '127', '135', '131', '135', '135', '124', '105', '90', '75', '65', '64', '64', '69', '65', '63', '61', '59', '63', '71', '75', '78', '89', '108', '140', '149', '141', '146', '155', '155', '153', '153', '149', '152', '146', '146', '141', '140', '140', '131', '128', '124', '106', '92', '116', '132', '145', '140', '121', '110', '90', '57', '37', '39', '37', '32', '40', '38', '31', '25', '20', '16', '13', '12', '53', '129', '141', '131', '127', '129', '135', '135', '142', '145', '154', '149', '150', '149', '117', '86', '73', '69', '61', '61', '67', '69', '63', '59', '64', '64', '64', '61', '57', '62', '64', '72', '95', '117', '129', '140', '137', '129', '110', '97', '85', '68', '61', '63', '70', '71', '67', '64', '63', '63', '59', '60', '65', '70', '67', '83', '120', '144', '143', '147', '156', '155', '154', '151', '152', '150', '149', '146', '142', '139', '135', '133', '132', '127', '95', '95', '127', '140', '142', '138', '114', '96', '80', '47', '35', '48', '44', '34', '36', '31', '28', '26', '24', '21', '16', '2', '39', '127', '143', '135', '127', '125', '126', '138', '139', '142', '149', '148', '151', '144', '99', '73', '71', '68', '60', '57', '64', '67', '59', '56', '56', '61', '57', '52', '54', '56', '64', '81', '94', '97', '107', '119', '115', '100', '92', '86', '74', '62', '65', '73', '75', '76', '71', '69', '64', '65', '60', '58', '60', '59', '63', '71', '105', '140', '150', '149', '154', '157', '154', '152', '151', '147', '147', '148', '142', '134', '134', '132', '131', '124', '90', '111', '144', '144', '143', '132', '111', '101', '80', '36', '33', '46', '51', '38', '37', '36', '28', '20', '19', '19', '16', '8', '37', '119', '146', '144', '138', '131', '128', '130', '133', '140', '143', '149', '156', '138', '91', '72', '68', '65', '57', '52', '55', '58', '55', '52', '51', '51', '55', '53', '52', '57', '68', '88', '96', '102', '107', '112', '111', '102', '97', '86', '74', '70', '71', '71', '70', '77', '70', '70', '67', '68', '63', '60', '60', '56', '61', '69', '95', '132', '150', '148', '152', '155', '153', '152', '150', '146', '141', '139', '138', '139', '135', '129', '123', '106', '87', '119', '148', '145', '145', '133', '120', '104', '65', '28', '35', '53', '68', '55', '37', '33', '29', '20', '16', '15', '14', '5', '35', '129', '150', '140', '138', '142', '139', '134', '141', '136', '141', '149', '154', '123', '88', '70', '62', '60', '55', '52', '49', '47', '47', '45', '50', '57', '58', '56', '58', '65', '72', '74', '79', '88', '93', '98', '91', '82', '74', '78', '77', '75', '74', '73', '69', '65', '63', '66', '72', '71', '68', '68', '63', '59', '61', '67', '82', '115', '142', '151', '151', '154', '154', '147', '149', '145', '136', '131', '140', '142', '136', '129', '121', '103', '81', '117', '148', '147', '140', '137', '123', '91', '42', '28', '36', '51', '75', '72', '25', '21', '19', '17', '17', '16', '13', '5', '34', '119', '144', '134', '132', '143', '137', '133', '135', '140', '143', '152', '154', '115', '77', '65', '61', '57', '56', '57', '54', '50', '48', '54', '58', '62', '64', '67', '77', '89', '101', '107', '109', '108', '107', '100', '99', '96', '95', '91', '88', '85', '79', '76', '69', '64', '59', '59', '58', '62', '67', '70', '66', '67', '66', '57', '71', '100', '132', '149', '152', '153', '151', '146', '145', '144', '139', '141', '139', '137', '134', '132', '126', '107', '85', '111', '142', '140', '136', '134', '115', '58', '24', '28', '33', '48', '70', '85', '19', '18', '17', '18', '16', '17', '19', '11', '30', '111', '135', '132', '135', '136', '132', '131', '140', '146', '140', '148', '150', '110', '76', '64', '59', '59', '59', '59', '61', '58', '57', '66', '81', '89', '89', '91', '95', '100', '109', '118', '123', '127', '128', '125', '126', '124', '122', '113', '109', '102', '93', '84', '81', '78', '69', '71', '66', '63', '60', '57', '58', '68', '69', '57', '62', '85', '118', '144', '152', '152', '148', '144', '137', '136', '139', '141', '135', '134', '134', '130', '127', '104', '87', '111', '131', '134', '135', '120', '67', '25', '24', '29', '32', '46', '62', '83', '27', '24', '20', '18', '16', '16', '15', '7', '16', '93', '135', '136', '134', '132', '134', '134', '142', '137', '136', '143', '146', '113', '78', '63', '61', '64', '66', '69', '68', '76', '82', '85', '105', '121', '130', '127', '127', '127', '126', '121', '125', '133', '130', '132', '130', '133', '128', '127', '118', '114', '112', '106', '108', '108', '109', '104', '97', '83', '78', '72', '63', '63', '65', '60', '60', '77', '116', '143', '147', '149', '145', '136', '135', '136', '140', '134', '131', '133', '131', '127', '124', '102', '74', '87', '101', '108', '90', '53', '24', '26', '30', '29', '32', '39', '59', '78', '29', '31', '28', '22', '19', '17', '17', '11', '18', '86', '135', '134', '132', '134', '131', '140', '140', '139', '137', '140', '144', '121', '85', '69', '64', '68', '71', '81', '95', '102', '106', '117', '122', '130', '135', '140', '141', '141', '136', '133', '136', '137', '144', '144', '143', '139', '142', '141', '137', '137', '134', '137', '138', '134', '124', '118', '109', '101', '90', '86', '79', '71', '63', '61', '60', '73', '116', '142', '146', '144', '138', '136', '137', '135', '130', '131', '133', '134', '129', '129', '118', '93', '50', '22', '23', '29', '28', '24', '29', '30', '29', '31', '33', '35', '48', '68', '25', '26', '29', '30', '25', '23', '23', '14', '11', '73', '127', '133', '133', '132', '135', '141', '138', '138', '136', '137', '142', '128', '93', '74', '67', '71', '83', '91', '103', '115', '121', '126', '126', '126', '128', '134', '133', '131', '127', '122', '117', '120', '130', '131', '126', '126', '131', '135', '136', '136', '136', '138', '139', '135', '128', '124', '117', '111', '105', '101', '86', '71', '74', '73', '57', '71', '118', '138', '138', '138', '134', '135', '138', '132', '129', '135', '134', '130', '130', '131', '115', '81', '48', '23', '20', '24', '25', '27', '28', '30', '30', '31', '33', '34', '44', '57', '30', '26', '25', '31', '31', '28', '27', '24', '14', '55', '124', '137', '129', '130', '136', '132', '138', '137', '140', '139', '142', '133', '104', '82', '74', '80', '95', '109', '116', '122', '125', '128', '128', '125', '125', '122', '118', '116', '110', '102', '92', '88', '91', '90', '86', '89', '102', '113', '118', '122', '119', '118', '127', '129', '127', '122', '124', '120', '113', '102', '88', '85', '85', '75', '56', '80', '119', '129', '132', '139', '131', '128', '134', '132', '134', '129', '129', '129', '130', '125', '110', '73', '42', '26', '24', '28', '27', '26', '27', '28', '32', '36', '36', '35', '40', '53', '33', '32', '30', '26', '34', '35', '27', '29', '20', '33', '109', '137', '131', '135', '130', '132', '140', '144', '139', '138', '136', '132', '114', '111', '111', '106', '119', '121', '125', '128', '127', '128', '125', '125', '120', '113', '106', '101', '89', '85', '78', '74', '80', '77', '70', '67', '77', '89', '97', '103', '107', '110', '112', '125', '124', '125', '124', '115', '103', '102', '106', '100', '91', '74', '63', '95', '124', '123', '129', '132', '126', '132', '133', '139', '137', '136', '131', '130', '131', '127', '98', '56', '33', '28', '25', '28', '28', '25', '29', '34', '34', '37', '44', '41', '37', '45', '30', '29', '29', '27', '31', '37', '33', '28', '30', '28', '87', '136', '137', '136', '136', '141', '142', '139', '140', '140', '135', '133', '128', '124', '127', '132', '136', '132', '126', '125', '123', '125', '119', '111', '106', '96', '85', '78', '71', '62', '58', '62', '61', '57', '57', '59', '57', '65', '80', '96', '108', '116', '126', '130', '133', '130', '124', '123', '124', '127', '118', '105', '93', '77', '90', '113', '126', '125', '122', '124', '130', '133', '139', '141', '137', '135', '133', '128', '125', '116', '84', '40', '31', '28', '24', '23', '26', '30', '35', '38', '36', '34', '38', '46', '45', '44', '38', '31', '30', '28', '26', '33', '38', '29', '27', '24', '62', '126', '136', '131', '133', '137', '139', '140', '145', '141', '134', '137', '131', '125', '134', '140', '137', '138', '131', '127', '120', '119', '112', '103', '94', '82', '74', '66', '62', '53', '45', '46', '42', '35', '40', '53', '53', '50', '57', '72', '87', '104', '121', '125', '129', '128', '127', '126', '127', '127', '119', '108', '98', '104', '117', '130', '130', '126', '118', '124', '135', '129', '126', '127', '130', '130', '133', '128', '121', '110', '76', '35', '26', '24', '20', '20', '23', '28', '33', '35', '36', '40', '43', '45', '46', '50', '39', '35', '33', '32', '23', '26', '36', '32', '25', '23', '33', '101', '129', '130', '131', '138', '134', '138', '140', '136', '126', '125', '126', '128', '128', '123', '136', '137', '129', '118', '114', '104', '97', '93', '81', '72', '66', '62', '54', '46', '41', '44', '44', '41', '43', '49', '55', '52', '56', '67', '74', '88', '103', '118', '119', '123', '125', '130', '128', '126', '126', '123', '125', '128', '133', '133', '133', '130', '127', '133', '137', '133', '125', '126', '129', '131', '128', '123', '116', '104', '61', '28', '21', '19', '19', '22', '23', '27', '33', '34', '38', '39', '41', '44', '45', '47', '39', '33', '34', '36', '25', '21', '29', '34', '28', '23', '23', '63', '116', '128', '134', '140', '144', '146', '144', '139', '136', '133', '129', '126', '111', '118', '132', '127', '117', '111', '104', '93', '81', '70', '62', '56', '51', '45', '42', '42', '46', '46', '45', '45', '43', '50', '55', '54', '63', '70', '76', '84', '97', '108', '113', '119', '128', '128', '130', '131', '136', '141', '139', '138', '137', '134', '133', '137', '137', '138', '133', '128', '126', '129', '132', '130', '124', '117', '116', '93', '45', '22', '21', '20', '22', '24', '24', '25', '27', '28', '32', '36', '37', '41', '46', '50', '57', '37', '33', '35', '33', '26', '24', '30', '31', '25', '20', '32', '90', '125', '132', '139', '141', '143', '146', '144', '145', '138', '126', '112', '108', '120', '119', '117', '111', '105', '98', '89', '75', '64', '62', '55', '47', '44', '47', '47', '47', '47', '50', '52', '46', '50', '54', '55', '67', '73', '77', '82', '92', '102', '113', '122', '130', '132', '135', '140', '145', '147', '145', '141', '138', '137', '137', '140', '138', '138', '130', '117', '127', '132', '131', '127', '125', '121', '112', '69', '28', '17', '20', '21', '21', '23', '25', '24', '25', '28', '34', '36', '39', '41', '43', '48', '94', '50', '34', '35', '37', '30', '23', '25', '33', '29', '26', '24', '44', '101', '123', '135', '135', '141', '144', '148', '144', '138', '121', '107', '108', '111', '111', '100', '106', '107', '96', '80', '66', '62', '59', '52', '48', '51', '50', '47', '44', '54', '58', '51', '49', '54', '57', '53', '63', '71', '75', '79', '83', '101', '112', '126', '130', '136', '135', '135', '142', '146', '147', '140', '139', '135', '138', '139', '140', '138', '134', '133', '131', '129', '127', '127', '120', '119', '87', '39', '21', '18', '19', '19', '22', '23', '25', '27', '27', '33', '35', '34', '38', '45', '53', '58', '131', '71', '38', '34', '37', '34', '26', '24', '29', '28', '26', '23', '19', '48', '101', '122', '138', '142', '142', '144', '150', '141', '118', '105', '103', '106', '98', '102', '104', '102', '88', '61', '52', '51', '51', '50', '50', '48', '45', '41', '46', '58', '56', '47', '49', '57', '61', '60', '61', '62', '69', '79', '86', '98', '113', '119', '128', '135', '140', '144', '142', '138', '136', '138', '138', '138', '138', '139', '139', '139', '139', '138', '135', '130', '125', '122', '119', '99', '55', '25', '19', '21', '20', '18', '22', '24', '28', '29', '30', '35', '38', '40', '45', '44', '49', '57', '166', '121', '57', '33', '36', '36', '29', '25', '27', '29', '28', '26', '22', '15', '50', '103', '126', '135', '141', '142', '153', '139', '116', '106', '95', '98', '103', '105', '93', '87', '64', '50', '47', '46', '45', '47', '54', '50', '44', '45', '47', '50', '48', '41', '51', '62', '61', '64', '60', '52', '59', '70', '75', '89', '114', '121', '125', '132', '145', '148', '145', '136', '128', '135', '139', '141', '142', '141', '138', '140', '136', '133', '131', '126', '122', '113', '103', '62', '26', '22', '22', '21', '24', '21', '21', '24', '25', '29', '29', '32', '38', '42', '48', '55', '53', '53', '179', '167', '112', '44', '29', '35', '32', '24', '24', '31', '29', '27', '29', '16', '10', '64', '111', '129', '135', '146', '145', '128', '114', '106', '98', '105', '109', '88', '76', '68', '59', '46', '40', '41', '43', '44', '48', '47', '41', '47', '45', '42', '44', '46', '53', '61', '56', '58', '58', '50', '48', '56', '61', '75', '104', '129', '131', '138', '144', '149', '146', '135', '125', '131', '144', '145', '146', '141', '135', '133', '132', '130', '124', '119', '115', '108', '65', '24', '18', '20', '22', '24', '24', '22', '22', '25', '26', '29', '31', '32', '35', '41', '43', '48', '54', '56', '186', '183', '181', '104', '30', '31', '34', '27', '24', '29', '30', '28', '31', '20', '14', '51', '98', '116', '130', '139', '136', '113', '96', '86', '86', '98', '89', '77', '64', '51', '52', '47', '40', '38', '40', '41', '43', '41', '39', '43', '39', '38', '42', '45', '49', '55', '51', '50', '52', '48', '45', '44', '52', '56', '92', '128', '134', '132', '141', '146', '145', '143', '134', '137', '146', '150', '146', '140', '136', '131', '129', '126', '120', '111', '110', '89', '32', '17', '21', '20', '20', '24', '27', '25', '23', '23', '26', '28', '29', '32', '39', '45', '48', '52', '57', '60', '189', '188', '207', '172', '69', '31', '36', '30', '26', '31', '32', '30', '29', '19', '14', '56', '95', '102', '112', '133', '128', '90', '67', '73', '75', '76', '76', '70', '53', '46', '48', '44', '40', '39', '35', '34', '39', '43', '35', '36', '39', '37', '38', '42', '44', '43', '42', '43', '45', '46', '41', '40', '46', '48', '60', '112', '136', '131', '135', '140', '138', '139', '138', '142', '146', '148', '145', '138', '131', '128', '126', '121', '110', '107', '107', '79', '25', '14', '18', '19', '22', '25', '28', '30', '29', '29', '28', '30', '31', '34', '41', '48', '54', '61', '69', '78', '191', '184', '184', '192', '127', '44', '33', '27', '25', '28', '29', '27', '25', '17', '13', '58', '97', '104', '101', '120', '117', '93', '72', '62', '64', '67', '68', '59', '51', '46', '46', '45', '39', '35', '31', '33', '40', '46', '41', '38', '38', '38', '38', '38', '40', '37', '37', '40', '41', '39', '35', '36', '42', '44', '45', '97', '130', '131', '133', '135', '124', '126', '133', '136', '146', '143', '136', '132', '127', '124', '119', '110', '104', '112', '119', '78', '20', '17', '19', '20', '23', '26', '31', '30', '30', '32', '33', '29', '30', '34', '39', '49', '62', '70', '75', '90']\n"
          ],
          "name": "stdout"
        }
      ]
    },
    {
      "cell_type": "code",
      "metadata": {
        "colab": {
          "base_uri": "https://localhost:8080/"
        },
        "id": "No13jVgoxrGz",
        "outputId": "f3c7f358-e5f1-411e-868c-e564ad841057"
      },
      "source": [
        "print(X[1])"
      ],
      "execution_count": 27,
      "outputs": [
        {
          "output_type": "stream",
          "text": [
            "['219', '215', '204', '196', '204', '211', '212', '200', '180', '168', '178', '196', '194', '196', '203', '209', '199', '192', '197', '201', '207', '215', '199', '190', '182', '180', '183', '190', '190', '176', '175', '175', '170', '158', '162', '170', '150', '133', '133', '128', '121', '115', '115', '114', '112', '114', '113', '112', '120', '127', '123', '118', '112', '109', '112', '110', '107', '106', '104', '104', '100', '98', '105', '122', '135', '143', '152', '135', '114', '104', '81', '74', '87', '107', '98', '82', '84', '79', '70', '69', '62', '62', '79', '94', '97', '100', '98', '93', '100', '100', '97', '96', '93', '92', '88', '84', '222', '219', '220', '211', '207', '199', '185', '178', '171', '175', '196', '199', '199', '200', '201', '205', '202', '200', '204', '206', '211', '219', '204', '192', '188', '185', '185', '193', '189', '180', '177', '178', '173', '158', '159', '162', '145', '133', '133', '129', '122', '118', '116', '115', '114', '115', '115', '118', '127', '132', '127', '120', '116', '119', '118', '114', '114', '113', '110', '108', '105', '104', '110', '130', '140', '149', '152', '128', '106', '106', '91', '78', '90', '107', '101', '84', '90', '93', '79', '75', '73', '59', '58', '74', '94', '102', '100', '99', '97', '90', '94', '96', '95', '92', '88', '86', '231', '224', '212', '197', '191', '186', '176', '170', '172', '190', '201', '199', '200', '203', '204', '210', '215', '211', '210', '213', '213', '217', '210', '192', '188', '188', '189', '194', '189', '183', '181', '183', '175', '158', '158', '158', '142', '132', '133', '131', '125', '120', '121', '120', '116', '115', '116', '122', '135', '137', '129', '122', '121', '125', '121', '119', '120', '118', '117', '112', '112', '109', '116', '136', '149', '156', '149', '126', '109', '108', '98', '91', '97', '110', '109', '89', '93', '99', '90', '82', '79', '68', '60', '53', '60', '82', '97', '104', '100', '93', '92', '91', '85', '77', '80', '84', '216', '207', '199', '196', '186', '178', '176', '169', '187', '195', '196', '200', '198', '205', '201', '209', '223', '220', '213', '215', '216', '218', '207', '192', '190', '196', '196', '193', '190', '186', '189', '186', '168', '155', '159', '154', '141', '137', '132', '129', '125', '118', '120', '124', '126', '122', '120', '128', '132', '133', '125', '119', '122', '123', '125', '123', '121', '120', '118', '116', '114', '117', '126', '142', '156', '156', '142', '120', '114', '116', '100', '93', '104', '119', '112', '93', '95', '102', '98', '90', '87', '77', '66', '62', '48', '49', '71', '91', '102', '106', '96', '79', '68', '65', '67', '72', '216', '208', '200', '190', '180', '178', '188', '191', '191', '192', '197', '187', '191', '200', '193', '205', '224', '225', '218', '219', '220', '219', '208', '198', '203', '204', '197', '196', '193', '191', '196', '186', '161', '151', '157', '150', '140', '137', '132', '129', '125', '125', '121', '121', '124', '125', '124', '124', '129', '129', '121', '121', '123', '125', '124', '122', '122', '121', '121', '120', '117', '118', '125', '146', '155', '146', '131', '113', '113', '114', '104', '91', '104', '120', '112', '95', '93', '106', '99', '90', '96', '83', '75', '76', '67', '46', '46', '72', '90', '106', '107', '81', '61', '57', '53', '58', '200', '187', '181', '179', '179', '188', '190', '184', '180', '188', '189', '182', '188', '192', '189', '205', '225', '225', '224', '223', '220', '215', '208', '205', '208', '203', '197', '199', '200', '197', '194', '174', '154', '146', '148', '146', '141', '139', '135', '131', '127', '124', '122', '121', '121', '122', '119', '119', '125', '123', '119', '120', '121', '120', '122', '124', '122', '122', '120', '119', '121', '118', '126', '146', '145', '130', '117', '108', '115', '115', '105', '95', '103', '116', '112', '98', '96', '106', '105', '93', '96', '92', '76', '77', '80', '62', '45', '55', '73', '83', '100', '93', '60', '46', '39', '49', '199', '195', '194', '190', '187', '183', '187', '191', '191', '185', '178', '180', '190', '193', '195', '209', '223', '225', '225', '226', '219', '211', '207', '210', '209', '201', '198', '202', '204', '198', '187', '160', '148', '143', '142', '145', '144', '143', '136', '133', '130', '125', '123', '125', '125', '122', '120', '124', '121', '116', '120', '117', '113', '115', '119', '121', '120', '117', '117', '118', '118', '121', '127', '138', '128', '119', '111', '106', '110', '114', '106', '97', '106', '115', '109', '98', '98', '106', '108', '99', '100', '93', '74', '72', '78', '75', '52', '50', '69', '71', '85', '96', '72', '50', '35', '40', '212', '202', '196', '187', '183', '186', '189', '192', '190', '182', '173', '180', '194', '194', '200', '212', '222', '223', '226', '226', '216', '206', '206', '214', '210', '198', '200', '205', '206', '196', '170', '151', '144', '141', '143', '144', '144', '137', '135', '133', '133', '132', '129', '129', '128', '125', '125', '122', '119', '120', '119', '114', '110', '118', '119', '121', '119', '114', '119', '117', '120', '122', '126', '127', '112', '107', '108', '106', '110', '113', '107', '98', '102', '112', '105', '97', '97', '108', '109', '101', '102', '95', '77', '69', '71', '65', '57', '53', '60', '65', '70', '79', '72', '52', '44', '42', '188', '181', '174', '179', '189', '195', '185', '178', '178', '178', '177', '188', '195', '188', '196', '212', '221', '225', '229', '224', '214', '208', '206', '210', '207', '202', '205', '205', '197', '175', '154', '146', '140', '140', '137', '136', '132', '129', '128', '128', '131', '130', '130', '127', '123', '124', '123', '123', '120', '121', '115', '111', '115', '116', '117', '118', '118', '120', '117', '115', '117', '119', '118', '111', '102', '95', '101', '107', '109', '112', '110', '106', '100', '105', '103', '91', '91', '103', '109', '102', '101', '98', '79', '72', '75', '60', '53', '47', '55', '61', '63', '70', '69', '49', '36', '46', '176', '175', '179', '182', '180', '174', '164', '164', '172', '173', '182', '191', '185', '179', '195', '217', '224', '224', '224', '224', '216', '211', '212', '206', '203', '207', '206', '194', '173', '157', '148', '144', '141', '136', '129', '130', '131', '132', '130', '131', '130', '127', '124', '124', '124', '122', '119', '116', '118', '119', '115', '115', '117', '115', '113', '116', '118', '116', '118', '116', '112', '118', '116', '104', '99', '101', '108', '109', '109', '111', '116', '109', '100', '105', '102', '86', '84', '97', '104', '97', '104', '102', '82', '72', '74', '69', '58', '50', '53', '63', '65', '64', '66', '62', '52', '59', '152', '155', '158', '154', '148', '149', '155', '161', '164', '172', '175', '178', '177', '179', '198', '220', '229', '228', '229', '227', '218', '216', '211', '203', '207', '204', '189', '171', '159', '154', '147', '143', '140', '136', '130', '130', '129', '129', '128', '129', '127', '126', '123', '122', '123', '123', '120', '120', '122', '119', '117', '119', '117', '117', '118', '121', '120', '116', '118', '120', '118', '116', '115', '109', '106', '109', '114', '112', '110', '112', '115', '110', '103', '102', '101', '91', '85', '95', '99', '95', '105', '103', '83', '69', '69', '74', '67', '61', '61', '66', '67', '63', '66', '73', '74', '78', '146', '146', '143', '143', '148', '147', '150', '152', '157', '163', '160', '171', '176', '179', '201', '226', '237', '237', '236', '229', '221', '219', '214', '209', '198', '180', '166', '164', '159', '152', '153', '149', '142', '139', '132', '130', '128', '128', '128', '127', '127', '126', '124', '122', '121', '122', '123', '119', '120', '118', '118', '119', '119', '118', '119', '120', '120', '121', '119', '123', '120', '118', '116', '112', '115', '115', '116', '114', '114', '115', '112', '110', '107', '101', '99', '93', '92', '91', '94', '91', '104', '108', '83', '68', '67', '76', '79', '71', '67', '67', '69', '75', '75', '71', '70', '82', '161', '145', '136', '137', '138', '130', '127', '131', '141', '152', '163', '176', '178', '183', '204', '229', '240', '241', '237', '233', '223', '218', '213', '205', '189', '178', '178', '176', '168', '161', '155', '152', '145', '139', '139', '136', '132', '128', '130', '129', '128', '129', '126', '122', '119', '121', '121', '118', '117', '118', '119', '121', '121', '120', '120', '123', '125', '119', '121', '123', '122', '120', '119', '120', '118', '119', '120', '119', '117', '111', '110', '109', '106', '102', '101', '98', '92', '90', '85', '84', '102', '108', '93', '80', '79', '83', '83', '78', '76', '81', '80', '77', '71', '69', '68', '73', '149', '134', '132', '135', '130', '125', '121', '121', '133', '148', '165', '178', '181', '191', '215', '236', '243', '242', '238', '234', '223', '214', '203', '194', '190', '185', '187', '187', '178', '169', '163', '155', '149', '144', '143', '138', '133', '130', '130', '130', '127', '130', '128', '122', '119', '122', '121', '120', '118', '119', '122', '124', '119', '120', '121', '122', '122', '123', '123', '121', '120', '119', '121', '120', '120', '119', '119', '120', '118', '114', '112', '111', '109', '106', '104', '94', '94', '93', '86', '86', '96', '103', '102', '96', '95', '94', '94', '97', '93', '78', '60', '54', '51', '48', '51', '54', '137', '133', '134', '137', '132', '120', '113', '118', '129', '145', '163', '178', '182', '195', '221', '240', '244', '243', '239', '233', '226', '216', '204', '197', '195', '193', '193', '194', '192', '184', '177', '166', '158', '152', '147', '143', '136', '133', '131', '131', '130', '128', '129', '124', '123', '124', '124', '123', '123', '124', '123', '123', '122', '121', '122', '120', '118', '119', '121', '120', '118', '121', '119', '118', '121', '121', '120', '119', '116', '120', '117', '112', '111', '110', '106', '99', '99', '96', '90', '86', '89', '91', '93', '97', '97', '98', '99', '88', '68', '54', '48', '39', '29', '32', '40', '46', '140', '138', '144', '149', '135', '110', '104', '117', '123', '139', '163', '177', '179', '196', '227', '243', '245', '245', '242', '237', '230', '220', '212', '205', '204', '201', '202', '203', '201', '198', '187', '175', '166', '158', '154', '147', '141', '136', '135', '134', '133', '133', '129', '128', '126', '126', '130', '129', '127', '126', '122', '120', '121', '125', '119', '117', '121', '121', '122', '122', '123', '122', '121', '121', '120', '122', '120', '119', '119', '119', '121', '117', '112', '113', '110', '108', '102', '97', '88', '87', '88', '88', '91', '92', '97', '92', '81', '65', '57', '55', '38', '23', '31', '39', '49', '63', '135', '138', '135', '137', '136', '121', '111', '104', '118', '137', '157', '172', '179', '199', '229', '244', '246', '244', '243', '240', '232', '224', '219', '215', '208', '207', '207', '204', '201', '197', '191', '179', '168', '161', '156', '152', '146', '141', '138', '134', '135', '136', '131', '130', '131', '132', '130', '129', '129', '128', '124', '124', '125', '125', '123', '122', '122', '124', '121', '123', '124', '122', '124', '125', '122', '121', '121', '120', '119', '119', '120', '120', '115', '113', '112', '109', '103', '100', '94', '88', '88', '83', '83', '86', '84', '71', '59', '49', '43', '33', '25', '31', '45', '61', '76', '91', '145', '145', '133', '126', '116', '119', '122', '108', '114', '131', '156', '171', '178', '203', '231', '244', '245', '246', '246', '241', '236', '227', '223', '217', '209', '205', '203', '202', '199', '191', '186', '178', '169', '162', '158', '153', '146', '142', '140', '139', '137', '137', '135', '133', '133', '132', '129', '129', '127', '129', '127', '122', '125', '127', '126', '124', '126', '125', '127', '129', '126', '127', '126', '124', '124', '121', '120', '122', '120', '120', '121', '121', '119', '117', '116', '113', '107', '99', '92', '88', '86', '80', '77', '71', '57', '46', '41', '34', '25', '19', '24', '36', '50', '70', '94', '103', '150', '142', '133', '123', '119', '122', '119', '113', '110', '125', '146', '171', '185', '208', '235', '245', '246', '247', '245', '240', '239', '233', '223', '216', '210', '204', '195', '196', '189', '176', '172', '168', '162', '152', '150', '151', '146', '140', '139', '138', '140', '141', '136', '136', '132', '130', '130', '129', '130', '130', '129', '128', '127', '130', '128', '128', '126', '127', '130', '130', '130', '126', '122', '122', '122', '121', '118', '119', '118', '118', '119', '118', '119', '117', '117', '114', '108', '103', '94', '87', '83', '78', '69', '55', '42', '31', '28', '31', '25', '18', '25', '35', '49', '67', '89', '99', '138', '138', '131', '125', '122', '116', '107', '105', '110', '119', '144', '168', '187', '215', '236', '245', '246', '245', '244', '242', '237', '235', '223', '213', '206', '196', '184', '177', '168', '160', '156', '153', '148', '140', '143', '145', '141', '139', '137', '138', '140', '136', '135', '135', '132', '131', '128', '128', '131', '133', '131', '131', '129', '126', '133', '136', '131', '126', '125', '127', '125', '125', '121', '119', '119', '118', '117', '114', '113', '112', '113', '116', '114', '115', '119', '116', '112', '104', '99', '89', '81', '73', '63', '50', '34', '25', '23', '26', '32', '29', '32', '41', '50', '65', '78', '89', '138', '131', '121', '120', '124', '120', '113', '118', '117', '115', '139', '165', '184', '214', '239', '245', '245', '244', '244', '243', '239', '234', '223', '206', '191', '173', '160', '154', '145', '139', '133', '131', '129', '123', '127', '132', '131', '133', '134', '137', '136', '135', '133', '134', '135', '131', '127', '126', '129', '130', '130', '131', '129', '129', '131', '135', '135', '126', '124', '127', '123', '119', '120', '119', '115', '117', '115', '109', '108', '110', '111', '110', '113', '114', '115', '116', '111', '106', '101', '89', '76', '65', '60', '48', '28', '32', '35', '34', '36', '35', '36', '41', '51', '64', '73', '86', '132', '123', '114', '114', '110', '106', '108', '115', '106', '104', '133', '160', '182', '216', '242', '246', '244', '244', '243', '241', '237', '226', '203', '169', '144', '124', '115', '112', '103', '96', '93', '92', '90', '88', '94', '98', '106', '113', '122', '124', '129', '132', '130', '131', '133', '133', '130', '128', '127', '125', '129', '129', '131', '132', '131', '134', '134', '128', '121', '123', '126', '119', '116', '116', '110', '106', '105', '106', '103', '107', '110', '107', '108', '112', '113', '114', '110', '105', '99', '88', '70', '62', '53', '39', '30', '35', '48', '53', '52', '47', '39', '43', '52', '60', '70', '82', '118', '116', '115', '113', '105', '97', '93', '86', '85', '98', '126', '153', '181', '222', '245', '248', '246', '243', '240', '235', '218', '182', '138', '106', '87', '77', '72', '67', '59', '52', '48', '46', '47', '44', '47', '54', '60', '74', '91', '105', '115', '116', '123', '129', '134', '134', '127', '124', '124', '127', '129', '130', '134', '129', '128', '127', '129', '127', '115', '111', '109', '108', '105', '99', '97', '92', '87', '90', '91', '94', '96', '106', '110', '110', '111', '109', '110', '104', '100', '94', '74', '57', '45', '31', '26', '30', '38', '53', '65', '66', '63', '59', '54', '55', '62', '78', '116', '111', '121', '115', '105', '96', '85', '77', '81', '94', '122', '148', '186', '230', '247', '246', '243', '241', '225', '192', '155', '122', '102', '94', '87', '73', '61', '56', '51', '42', '35', '35', '34', '28', '30', '35', '38', '47', '67', '83', '92', '101', '114', '124', '131', '131', '129', '124', '125', '129', '128', '130', '131', '124', '121', '124', '120', '111', '99', '85', '76', '69', '68', '67', '62', '59', '57', '59', '65', '65', '69', '77', '94', '106', '108', '110', '106', '104', '102', '95', '77', '54', '37', '24', '16', '16', '14', '26', '40', '53', '68', '83', '81', '71', '71', '82', '109', '115', '119', '112', '100', '82', '72', '73', '80', '91', '118', '148', '192', '238', '248', '246', '243', '223', '183', '157', '155', '159', '152', '145', '128', '106', '86', '78', '73', '63', '54', '45', '41', '41', '44', '48', '50', '49', '61', '73', '84', '90', '101', '115', '123', '127', '126', '125', '127', '128', '130', '129', '125', '117', '116', '114', '95', '74', '58', '43', '34', '27', '29', '32', '29', '26', '26', '36', '41', '42', '42', '43', '60', '86', '107', '109', '104', '104', '103', '98', '78', '56', '35', '18', '9', '10', '16', '25', '34', '41', '53', '78', '96', '90', '84', '90', '109', '121', '119', '113', '92', '75', '73', '76', '75', '87', '113', '145', '206', '245', '248', '247', '231', '191', '178', '200', '209', '200', '189', '172', '151', '136', '122', '112', '106', '102', '94', '83', '70', '65', '65', '70', '73', '68', '69', '78', '85', '89', '93', '107', '123', '127', '124', '128', '128', '127', '127', '126', '123', '108', '97', '89', '71', '48', '32', '24', '21', '28', '33', '36', '33', '29', '31', '31', '32', '34', '37', '41', '44', '58', '84', '100', '105', '102', '102', '97', '82', '58', '32', '16', '13', '14', '22', '29', '34', '38', '45', '56', '74', '91', '93', '95', '119', '125', '126', '110', '90', '79', '73', '72', '75', '88', '103', '150', '220', '248', '247', '246', '215', '195', '218', '232', '222', '202', '187', '174', '162', '147', '136', '125', '116', '112', '109', '109', '105', '99', '96', '97', '98', '96', '93', '93', '93', '93', '97', '108', '125', '128', '129', '127', '127', '124', '123', '122', '117', '99', '82', '73', '59', '46', '39', '38', '40', '46', '52', '54', '48', '46', '49', '53', '55', '53', '55', '55', '54', '52', '52', '72', '94', '101', '101', '99', '81', '57', '34', '15', '16', '20', '26', '34', '41', '45', '46', '51', '58', '69', '89', '96', '131', '130', '119', '107', '92', '78', '68', '65', '72', '80', '94', '161', '234', '248', '248', '243', '220', '219', '235', '234', '219', '209', '193', '172', '162', '153', '139', '129', '124', '118', '112', '108', '109', '105', '102', '105', '106', '111', '114', '112', '112', '113', '115', '124', '136', '134', '132', '134', '130', '129', '127', '121', '113', '94', '79', '71', '66', '63', '61', '66', '71', '75', '79', '86', '88', '88', '91', '93', '92', '90', '87', '81', '76', '67', '55', '48', '66', '88', '105', '102', '82', '59', '35', '16', '10', '11', '16', '24', '34', '50', '60', '59', '54', '57', '69', '88', '156', '140', '121', '107', '92', '77', '67', '63', '62', '67', '98', '177', '240', '250', '247', '244', '234', '232', '233', '227', '215', '206', '192', '169', '149', '137', '126', '116', '112', '107', '100', '99', '98', '96', '100', '106', '108', '111', '114', '113', '115', '125', '142', '151', '153', '148', '141', '139', '136', '126', '123', '120', '116', '100', '85', '81', '80', '81', '87', '90', '90', '94', '97', '104', '108', '107', '108', '103', '101', '107', '106', '96', '90', '85', '80', '67', '50', '65', '96', '107', '90', '63', '40', '16', '2', '1', '6', '16', '23', '34', '52', '66', '65', '57', '61', '78', '167', '155', '139', '119', '95', '79', '64', '57', '47', '64', '112', '185', '239', '248', '248', '244', '240', '238', '233', '227', '214', '199', '179', '146', '117', '100', '88', '72', '62', '59', '56', '55', '54', '56', '66', '83', '102', '111', '111', '109', '108', '118', '148', '172', '172', '160', '148', '140', '135', '123', '119', '118', '109', '97', '87', '84', '85', '89', '93', '91', '91', '93', '94', '96', '98', '100', '99', '99', '101', '101', '101', '99', '100', '100', '97', '92', '76', '60', '84', '104', '94', '68', '46', '20', '3', '2', '4', '16', '26', '34', '40', '54', '62', '62', '63', '69', '167', '161', '147', '135', '116', '90', '61', '37', '38', '68', '125', '193', '242', '250', '248', '246', '241', '238', '232', '220', '207', '187', '143', '102', '92', '86', '66', '40', '29', '23', '19', '22', '30', '33', '31', '38', '65', '96', '106', '108', '108', '104', '132', '177', '192', '173', '150', '145', '133', '125', '121', '118', '104', '87', '80', '82', '85', '89', '89', '80', '69', '62', '64', '67', '71', '72', '72', '74', '80', '88', '90', '100', '103', '103', '100', '101', '99', '73', '80', '105', '99', '68', '41', '19', '3', '1', '2', '9', '20', '30', '39', '46', '55', '66', '71', '71', '176', '163', '147', '135', '125', '111', '69', '25', '38', '86', '137', '208', '246', '249', '249', '246', '242', '238', '230', '218', '196', '149', '98', '80', '86', '120', '131', '80', '23', '4', '4', '8', '20', '36', '43', '30', '34', '64', '92', '105', '107', '97', '106', '163', '205', '192', '163', '143', '129', '123', '119', '109', '93', '79', '76', '82', '84', '81', '67', '46', '30', '32', '36', '37', '41', '40', '43', '47', '52', '55', '68', '83', '93', '95', '97', '107', '104', '90', '90', '104', '98', '70', '37', '12', '1', '1', '2', '7', '12', '20', '28', '37', '46', '55', '71', '76', '178', '171', '159', '137', '119', '111', '75', '21', '46', '106', '157', '220', '247', '248', '247', '246', '244', '239', '228', '215', '172', '110', '92', '90', '136', '228', '238', '135', '42', '10', '1', '17', '39', '66', '85', '59', '35', '40', '73', '93', '104', '101', '96', '140', '201', '198', '167', '143', '121', '114', '113', '99', '85', '76', '75', '77', '70', '56', '35', '25', '27', '32', '19', '9', '9', '7', '10', '21', '37', '51', '54', '56', '79', '95', '100', '103', '105', '95', '99', '108', '102', '72', '37', '10', '1', '3', '11', '19', '23', '23', '29', '32', '34', '43', '63', '75', '180', '170', '161', '148', '124', '93', '52', '38', '70', '112', '174', '228', '247', '249', '247', '245', '245', '242', '229', '200', '144', '113', '143', '139', '179', '250', '248', '142', '50', '26', '18', '27', '36', '82', '120', '89', '54', '45', '59', '78', '93', '97', '96', '133', '202', '206', '166', '138', '117', '112', '108', '94', '82', '78', '75', '69', '54', '43', '37', '36', '52', '44', '17', '3', '0', '1', '9', '27', '51', '52', '45', '48', '62', '84', '100', '103', '105', '99', '103', '109', '105', '73', '35', '6', '1', '2', '11', '22', '31', '35', '38', '40', '43', '45', '54', '74', '192', '176', '164', '156', '136', '94', '49', '54', '69', '120', '189', '233', '248', '249', '246', '246', '246', '243', '224', '182', '147', '163', '206', '193', '158', '188', '215', '159', '52', '38', '58', '42', '41', '92', '113', '87', '65', '56', '65', '79', '88', '98', '102', '137', '206', '217', '175', '140', '124', '117', '107', '89', '77', '83', '78', '69', '57', '47', '44', '58', '86', '61', '21', '11', '2', '5', '21', '48', '92', '96', '61', '36', '45', '69', '93', '105', '104', '101', '104', '109', '105', '75', '38', '7', '1', '1', '2', '8', '15', '24', '35', '48', '55', '52', '54', '77', '197', '192', '178', '169', '149', '114', '78', '51', '66', '134', '195', '235', '249', '248', '247', '246', '247', '244', '229', '203', '193', '205', '228', '237', '181', '129', '135', '143', '88', '47', '47', '46', '64', '83', '72', '54', '49', '49', '60', '87', '101', '106', '105', '148', '211', '219', '180', '147', '126', '119', '107', '89', '79', '79', '77', '68', '56', '47', '42', '59', '90', '72', '25', '19', '25', '16', '20', '69', '119', '118', '84', '54', '49', '64', '87', '99', '104', '106', '106', '111', '106', '77', '42', '9', '0', '1', '1', '1', '2', '8', '22', '35', '50', '58', '63', '92', '198', '206', '191', '179', '163', '127', '97', '80', '91', '143', '199', '238', '248', '247', '245', '244', '242', '237', '230', '222', '216', '207', '213', '228', '211', '168', '133', '112', '95', '82', '70', '69', '70', '65', '59', '49', '45', '55', '67', '93', '114', '114', '119', '170', '218', '212', '177', '144', '126', '119', '106', '88', '82', '87', '91', '74', '53', '44', '37', '41', '60', '64', '38', '26', '32', '23', '36', '95', '124', '96', '75', '72', '65', '70', '85', '98', '106', '106', '108', '110', '111', '82', '45', '12', '1', '1', '3', '8', '8', '8', '13', '24', '37', '54', '82', '109', '205', '212', '208', '184', '155', '113', '96', '112', '128', '164', '207', '239', '249', '248', '245', '245', '240', '231', '223', '223', '215', '201', '196', '207', '209', '190', '160', '129', '103', '99', '89', '83', '79', '74', '75', '70', '70', '74', '83', '93', '107', '122', '148', '194', '219', '208', '172', '142', '129', '120', '110', '93', '83', '87', '90', '82', '72', '60', '49', '43', '49', '55', '55', '47', '40', '42', '60', '84', '91', '84', '85', '84', '80', '78', '87', '99', '105', '110', '109', '112', '110', '86', '51', '16', '1', '1', '2', '12', '21', '18', '15', '20', '41', '67', '97', '105', '206', '221', '216', '181', '135', '96', '110', '134', '153', '178', '216', '243', '249', '247', '246', '243', '239', '228', '221', '217', '216', '202', '193', '193', '193', '185', '168', '144', '128', '118', '108', '100', '95', '90', '88', '86', '84', '79', '80', '87', '103', '133', '177', '211', '224', '206', '165', '141', '127', '121', '114', '99', '86', '83', '84', '78', '70', '67', '61', '58', '58', '64', '71', '73', '73', '69', '71', '77', '85', '94', '97', '101', '97', '90', '91', '99', '110', '111', '112', '117', '110', '84', '54', '23', '3', '1', '5', '10', '14', '22', '30', '45', '69', '84', '92', '94', '208', '226', '218', '159', '112', '112', '130', '149', '168', '190', '222', '245', '247', '246', '245', '241', '233', '223', '215', '210', '204', '194', '185', '183', '180', '170', '158', '143', '130', '119', '113', '108', '101', '96', '97', '92', '87', '83', '85', '99', '124', '166', '203', '226', '232', '205', '167', '139', '127', '120', '115', '103', '91', '87', '82', '74', '70', '68', '69', '68', '69', '72', '81', '88', '91', '92', '91', '95', '100', '100', '101', '101', '98', '101', '100', '103', '112', '114', '114', '117', '112', '87', '56', '24', '4', '3', '8', '10', '14', '29', '55', '73', '69', '63', '85', '79', '220', '236', '199', '127', '91', '117', '144', '157', '178', '201', '228', '245', '247', '247', '246', '241', '231', '220', '215', '211', '196', '181', '171', '167', '163', '155', '147', '133', '126', '117', '113', '111', '107', '106', '103', '99', '97', '98', '108', '133', '170', '204', '224', '237', '239', '208', '167', '139', '128', '122', '116', '106', '93', '89', '86', '83', '79', '78', '76', '77', '80', '79', '82', '83', '89', '93', '94', '97', '97', '97', '98', '96', '102', '107', '110', '110', '110', '116', '116', '115', '115', '93', '59', '24', '3', '7', '14', '21', '31', '45', '55', '55', '39', '57', '90', '60', '228', '219', '152', '109', '81', '113', '159', '170', '195', '213', '235', '246', '247', '248', '245', '241', '233', '221', '211', '202', '190', '173', '160', '156', '152', '147', '139', '134', '128', '124', '123', '116', '115', '112', '105', '105', '111', '129', '155', '180', '208', '226', '238', '246', '247', '214', '169', '142', '125', '120', '118', '109', '97', '94', '92', '93', '90', '85', '82', '86', '88', '87', '87', '86', '91', '90', '92', '94', '95', '97', '100', '106', '108', '111', '115', '114', '115', '114', '115', '115', '114', '94', '66', '31', '3', '4', '16', '21', '21', '18', '11', '15', '41', '84', '81', '43', '209', '173', '125', '117', '77', '114', '162', '172', '185', '215', '236', '246', '248', '247', '247', '245', '236', '226', '214', '202', '187', '167', '154', '148', '147', '144', '139', '129', '124', '124', '121', '120', '117', '115', '117', '122', '141', '169', '196', '215', '231', '243', '246', '250', '249', '220', '174', '140', '125', '118', '116', '108', '99', '100', '99', '99', '97', '95', '90', '90', '97', '95', '94', '97', '99', '100', '99', '100', '104', '104', '107', '109', '111', '114', '116', '117', '114', '116', '115', '115', '115', '98', '73', '44', '10', '1', '3', '5', '2', '0', '0', '16', '65', '87', '56', '34', '176', '161', '135', '131', '109', '140', '177', '173', '166', '199', '235', '245', '247', '247', '248', '247', '242', '235', '225', '210', '196', '180', '164', '152', '145', '140', '138', '130', '122', '118', '118', '116', '117', '123', '134', '150', '175', '199', '219', '231', '244', '247', '248', '248', '245', '220', '176', '142', '125', '121', '120', '110', '103', '105', '104', '102', '104', '107', '100', '97', '100', '101', '98', '99', '107', '108', '105', '108', '110', '113', '116', '116', '119', '117', '119', '120', '119', '120', '117', '116', '114', '100', '75', '47', '18', '3', '2', '3', '4', '1', '10', '45', '78', '66', '39', '32', '176', '162', '134', '141', '148', '169', '185', '173', '161', '188', '234', '244', '245', '248', '249', '250', '247', '243', '235', '218', '205', '192', '175', '156', '142', '135', '130', '129', '123', '116', '118', '118', '128', '141', '153', '171', '193', '217', '227', '238', '246', '247', '246', '244', '241', '220', '181', '149', '127', '122', '120', '111', '106', '104', '108', '105', '103', '108', '111', '108', '103', '103', '101', '103', '112', '112', '118', '117', '115', '116', '118', '119', '119', '121', '120', '118', '121', '118', '119', '114', '110', '99', '74', '51', '32', '16', '12', '8', '5', '13', '38', '62', '62', '45', '34', '33', '197', '173', '156', '162', '173', '172', '168', '167', '166', '199', '231', '242', '245', '247', '249', '250', '249', '248', '243', '232', '217', '200', '180', '166', '152', '141', '135', '129', '123', '123', '125', '128', '136', '147', '159', '178', '203', '222', '232', '240', '246', '246', '245', '239', '231', '210', '180', '151', '134', '121', '117', '114', '104', '102', '109', '113', '109', '110', '115', '113', '111', '108', '105', '107', '113', '112', '114', '121', '122', '116', '119', '120', '120', '122', '125', '124', '123', '122', '120', '117', '108', '97', '72', '49', '32', '24', '21', '10', '11', '33', '48', '53', '38', '26', '33', '33', '235', '217', '199', '187', '176', '165', '159', '158', '184', '216', '235', '241', '244', '245', '247', '248', '249', '248', '246', '240', '228', '206', '183', '171', '156', '147', '140', '133', '127', '128', '133', '135', '138', '147', '160', '183', '205', '223', '237', '240', '244', '245', '241', '231', '214', '194', '172', '150', '131', '122', '120', '115', '108', '102', '108', '114', '116', '115', '115', '118', '116', '115', '112', '113', '115', '108', '109', '114', '114', '114', '120', '123', '125', '126', '124', '125', '124', '121', '121', '115', '110', '98', '79', '53', '22', '19', '19', '19', '29', '36', '40', '29', '14', '20', '32', '39', '239', '213', '187', '168', '161', '159', '145', '126', '177', '229', '234', '241', '242', '243', '246', '248', '247', '246', '244', '239', '226', '210', '190', '169', '161', '154', '145', '138', '134', '134', '136', '135', '136', '145', '164', '188', '206', '223', '236', '240', '244', '243', '234', '218', '201', '182', '163', '148', '130', '123', '117', '115', '110', '102', '106', '115', '121', '119', '118', '120', '120', '120', '120', '122', '120', '116', '113', '115', '116', '117', '122', '124', '123', '128', '125', '125', '124', '122', '120', '114', '107', '92', '77', '63', '30', '17', '21', '23', '25', '29', '22', '3', '10', '23', '29', '42', '218', '190', '154', '130', '148', '155', '121', '89', '161', '230', '236', '240', '243', '243', '245', '245', '246', '244', '241', '234', '219', '211', '195', '174', '170', '163', '153', '143', '140', '141', '139', '138', '135', '143', '163', '184', '208', '223', '230', '238', '245', '243', '229', '209', '193', '172', '150', '136', '131', '123', '118', '116', '111', '106', '103', '114', '121', '122', '124', '120', '119', '119', '121', '120', '120', '122', '118', '120', '123', '126', '126', '127', '129', '128', '127', '127', '126', '123', '119', '111', '101', '86', '75', '65', '40', '17', '9', '17', '27', '22', '5', '3', '21', '26', '33', '53', '208', '177', '115', '89', '141', '152', '109', '68', '141', '229', '239', '243', '241', '243', '243', '246', '244', '240', '236', '229', '222', '211', '198', '187', '180', '170', '158', '150', '146', '143', '147', '144', '143', '150', '163', '177', '196', '212', '219', '237', '245', '240', '228', '208', '189', '166', '145', '133', '124', '123', '121', '118', '114', '106', '107', '113', '119', '123', '127', '125', '121', '123', '124', '122', '122', '122', '124', '127', '124', '127', '128', '130', '130', '129', '129', '126', '126', '121', '118', '109', '97', '77', '70', '67', '45', '15', '0', '7', '18', '14', '8', '13', '25', '27', '36', '66', '215', '175', '107', '89', '142', '148', '100', '60', '83', '202', '241', '243', '242', '241', '242', '243', '240', '238', '234', '229', '227', '217', '204', '194', '186', '176', '165', '157', '151', '147', '146', '149', '152', '161', '161', '167', '181', '191', '211', '237', '243', '236', '229', '218', '195', '166', '148', '133', '126', '123', '120', '118', '110', '106', '103', '108', '118', '120', '125', '126', '128', '126', '125', '125', '127', '125', '125', '122', '121', '122', '128', '127', '128', '130', '127', '124', '122', '121', '113', '107', '92', '62', '65', '71', '46', '8', '1', '0', '1', '4', '6', '9', '22', '29', '47', '69', '235', '183', '107', '84', '139', '139', '97', '74', '64', '152', '232', '242', '242', '240', '240', '241', '241', '239', '232', '229', '226', '217', '205', '197', '190', '182', '170', '160', '155', '151', '151', '149', '152', '157', '154', '152', '158', '172', '208', '235', '238', '237', '243', '235', '202', '172', '149', '135', '126', '119', '120', '119', '115', '110', '104', '103', '113', '121', '123', '125', '129', '128', '130', '131', '128', '126', '127', '125', '125', '122', '125', '130', '128', '129', '132', '126', '119', '116', '111', '109', '85', '52', '64', '72', '38', '3', '1', '1', '1', '1', '2', '10', '25', '40', '55', '73', '241', '187', '111', '84', '123', '149', '127', '124', '110', '120', '209', '240', '240', '241', '241', '240', '239', '236', '230', '227', '227', '218', '209', '202', '192', '186', '173', '163', '157', '156', '156', '150', '148', '147', '145', '143', '141', '156', '200', '231', '233', '241', '252', '247', '212', '179', '152', '138', '126', '126', '125', '118', '116', '111', '105', '95', '106', '116', '122', '130', '129', '129', '129', '130', '128', '123', '129', '132', '132', '127', '126', '130', '128', '127', '124', '120', '117', '111', '108', '102', '79', '48', '59', '66', '25', '1', '1', '1', '2', '3', '11', '23', '33', '45', '60', '79', '232', '192', '117', '83', '93', '133', '150', '175', '154', '139', '198', '237', '240', '241', '241', '239', '239', '237', '231', '228', '224', '218', '214', '207', '196', '185', '173', '161', '160', '165', '156', '152', '147', '141', '139', '134', '124', '132', '196', '230', '236', '244', '252', '250', '222', '183', '157', '139', '131', '130', '127', '118', '113', '112', '107', '96', '98', '113', '121', '126', '130', '128', '128', '130', '127', '129', '127', '131', '130', '128', '130', '131', '131', '128', '124', '122', '118', '111', '107', '96', '57', '30', '51', '52', '16', '0', '1', '0', '1', '10', '28', '41', '41', '53', '68', '78', '213', '191', '132', '89', '73', '99', '148', '194', '208', '205', '208', '226', '240', '240', '238', '240', '240', '235', '228', '225', '225', '218', '210', '208', '200', '189', '178', '173', '174', '164', '155', '154', '146', '139', '133', '131', '110', '119', '199', '236', '241', '246', '251', '247', '228', '196', '163', '142', '136', '133', '131', '123', '114', '115', '113', '98', '93', '109', '121', '125', '128', '127', '126', '126', '128', '130', '133', '133', '130', '132', '133', '133', '131', '129', '126', '122', '117', '112', '105', '81', '40', '27', '39', '40', '11', '0', '1', '4', '12', '26', '41', '48', '55', '68', '75', '84', '194', '188', '139', '93', '61', '86', '146', '187', '218', '210', '183', '200', '235', '241', '238', '238', '237', '234', '231', '225', '223', '219', '211', '205', '202', '193', '183', '183', '182', '169', '158', '151', '148', '139', '131', '131', '98', '112', '207', '243', '240', '243', '241', '238', '230', '204', '171', '148', '139', '136', '133', '126', '114', '112', '108', '99', '98', '109', '122', '128', '129', '131', '123', '123', '125', '130', '136', '135', '134', '132', '133', '130', '127', '129', '124', '116', '113', '109', '102', '71', '46', '45', '50', '40', '12', '4', '10', '17', '27', '40', '51', '57', '66', '79', '86', '97', '164', '178', '147', '100', '66', '70', '139', '173', '193', '194', '164', '182', '229', '241', '240', '238', '236', '234', '227', '227', '225', '220', '215', '204', '201', '194', '187', '181', '173', '164', '159', '159', '148', '139', '133', '126', '104', '121', '215', '240', '230', '226', '219', '217', '221', '205', '175', '152', '142', '134', '131', '120', '110', '108', '106', '103', '100', '113', '124', '128', '130', '129', '126', '124', '126', '131', '131', '135', '134', '129', '131', '128', '127', '123', '122', '113', '107', '110', '100', '76', '68', '65', '59', '29', '10', '13', '19', '24', '32', '43', '45', '56', '76', '89', '97', '109', '132', '156', '149', '107', '73', '54', '123', '165', '178', '185', '169', '178', '222', '239', '239', '239', '237', '234', '228', '228', '227', '220', '210', '203', '199', '197', '191', '184', '175', '164', '162', '157', '146', '138', '131', '125', '110', '126', '203', '229', '211', '200', '203', '210', '213', '199', '170', '151', '140', '133', '126', '109', '103', '101', '105', '102', '101', '114', '127', '127', '128', '129', '129', '129', '131', '132', '131', '133', '131', '130', '128', '127', '124', '121', '114', '107', '108', '106', '103', '99', '93', '73', '39', '8', '8', '9', '10', '9', '16', '28', '44', '67', '84', '91', '96', '107', '118', '128', '140', '120', '85', '61', '78', '134', '171', '183', '172', '176', '214', '237', '238', '240', '237', '234', '231', '231', '229', '224', '218', '206', '202', '203', '198', '194', '178', '170', '164', '153', '144', '135', '135', '132', '125', '123', '162', '203', '183', '139', '125', '179', '209', '190', '157', '137', '129', '128', '117', '100', '97', '105', '106', '99', '103', '116', '125', '128', '130', '131', '135', '135', '130', '134', '135', '131', '130', '126', '123', '123', '122', '119', '111', '106', '108', '108', '101', '101', '102', '76', '32', '3', '3', '1', '0', '9', '24', '44', '61', '74', '80', '84', '97', '107', '137', '110', '110', '118', '94', '69', '53', '76', '125', '163', '171', '171', '197', '232', '238', '238', '240', '236', '232', '231', '230', '229', '222', '215', '210', '204', '200', '193', '179', '168', '163', '156', '143', '135', '135', '140', '149', '140', '135', '151', '157', '132', '112', '145', '181', '174', '143', '125', '124', '116', '100', '84', '84', '92', '96', '101', '104', '114', '123', '127', '130', '132', '133', '133', '132', '130', '129', '131', '132', '125', '123', '122', '119', '115', '112', '108', '105', '104', '97', '96', '100', '79', '22', '2', '2', '3', '11', '29', '47', '64', '75', '76', '80', '89', '103', '111', '177', '141', '103', '89', '83', '71', '58', '36', '45', '77', '110', '116', '155', '226', '242', '237', '238', '236', '234', '232', '231', '230', '228', '222', '212', '209', '206', '197', '184', '169', '156', '146', '141', '135', '137', '157', '171', '173', '151', '135', '153', '178', '185', '170', '160', '159', '145', '131', '119', '105', '93', '86', '80', '78', '89', '101', '111', '118', '122', '126', '130', '135', '134', '135', '134', '132', '130', '127', '128', '123', '122', '119', '117', '113', '108', '105', '108', '101', '94', '93', '93', '60', '10', '0', '3', '10', '25', '42', '59', '69', '82', '85', '92', '98', '103', '114', '194', '165', '138', '107', '76', '53', '34', '22', '20', '29', '51', '40', '81', '208', '243', '238', '236', '236', '235', '235', '231', '229', '230', '224', '215', '209', '210', '201', '181', '169', '154', '143', '140', '142', '156', '176', '188', '193', '184', '168', '162', '181', '200', '198', '168', '135', '126', '118', '105', '97', '94', '91', '80', '86', '96', '107', '114', '117', '119', '124', '130', '131', '130', '131', '132', '135', '130', '126', '125', '121', '121', '118', '114', '110', '105', '106', '107', '103', '95', '84', '62', '20', '0', '4', '11', '22', '35', '54', '75', '88', '93', '96', '96', '98', '108', '124', '202', '177', '154', '140', '121', '89', '59', '44', '42', '55', '67', '41', '56', '195', '244', '236', '237', '236', '234', '231', '232', '231', '227', '224', '217', '213', '208', '196', '178', '166', '156', '145', '145', '162', '177', '190', '196', '200', '202', '194', '184', '182', '199', '204', '178', '129', '106', '108', '106', '103', '100', '97', '97', '100', '104', '112', '114', '116', '121', '126', '130', '131', '131', '132', '135', '134', '127', '125', '126', '121', '117', '117', '116', '111', '107', '106', '104', '88', '59', '33', '11', '6', '10', '22', '36', '49', '64', '80', '92', '94', '89', '91', '95', '100', '118', '131', '204', '184', '162', '145', '135', '127', '113', '92', '78', '66', '67', '41', '45', '177', '244', '241', '239', '236', '234', '232', '232', '232', '230', '226', '221', '218', '204', '190', '181', '173', '164', '157', '168', '181', '190', '195', '198', '201', '207', '207', '195', '185', '191', '200', '177', '134', '113', '119', '116', '108', '108', '109', '108', '109', '110', '113', '115', '117', '120', '124', '128', '132', '133', '131', '131', '133', '131', '125', '123', '120', '116', '117', '114', '113', '109', '110', '107', '56', '7', '1', '4', '14', '28', '41', '52', '64', '70', '79', '83', '84', '87', '94', '105', '118', '128', '132', '220', '191', '166', '152', '140', '130', '117', '104', '91', '80', '72', '52', '40', '157', '241', '241', '238', '238', '235', '233', '229', '229', '231', '229', '224', '217', '204', '194', '190', '181', '175', '184', '194', '196', '195', '194', '198', '197', '206', '207', '194', '190', '193', '198', '172', '133', '117', '126', '127', '116', '111', '110', '111', '115', '111', '113', '116', '117', '116', '118', '126', '131', '131', '129', '128', '129', '128', '125', '121', '117', '114', '115', '113', '110', '108', '108', '100', '39', '0', '2', '11', '27', '37', '44', '57', '67', '74', '73', '78', '87', '97', '109', '121', '129', '130', '126', '248', '225', '184', '158', '149', '136', '122', '108', '95', '84', '76', '59', '29', '131', '236', '242', '239', '237', '236', '232', '230', '229', '230', '230', '223', '214', '209', '206', '199', '190', '194', '204', '212', '209', '194', '195', '194', '193', '198', '200', '194', '194', '197', '196', '165', '134', '116', '125', '129', '124', '114', '110', '112', '117', '115', '114', '117', '118', '115', '116', '119', '127', '129', '126', '128', '125', '126', '123', '119', '118', '113', '113', '111', '109', '106', '110', '92', '28', '5', '15', '27', '35', '43', '53', '64', '67', '72', '80', '90', '102', '119', '129', '130', '128', '126', '125', '255', '254', '238', '199', '162', '146', '137', '120', '104', '91', '82', '71', '43', '111', '225', '243', '238', '237', '236', '237', '232', '231', '233', '231', '222', '213', '210', '207', '204', '211', '214', '217', '220', '210', '195', '191', '188', '185', '192', '195', '194', '199', '202', '192', '163', '129', '109', '116', '127', '126', '114', '110', '113', '114', '114', '115', '117', '117', '117', '119', '120', '123', '127', '128', '126', '125', '125', '121', '119', '116', '115', '114', '111', '109', '106', '110', '74', '13', '11', '33', '46', '46', '41', '39', '43', '50', '60', '80', '105', '117', '123', '122', '121', '119', '116', '114', '254', '254', '255', '255', '227', '178', '144', '139', '129', '124', '114', '104', '83', '107', '210', '243', '239', '238', '235', '236', '234', '232', '233', '230', '226', '222', '216', '210', '214', '223', '223', '227', '221', '207', '195', '190', '187', '183', '190', '194', '195', '202', '209', '199', '161', '120', '100', '105', '121', '122', '117', '111', '110', '111', '113', '115', '114', '118', '118', '118', '120', '119', '122', '123', '122', '123', '120', '121', '118', '111', '113', '113', '111', '106', '108', '103', '53', '8', '25', '43', '45', '38', '26', '12', '14', '21', '41', '92', '120', '121', '120', '120', '120', '119', '117', '114', '254', '254', '253', '254', '255', '247', '199', '158', '151', '143', '130', '115', '84', '89', '189', '241', '241', '240', '239', '236', '236', '236', '235', '230', '227', '224', '220', '221', '226', '227', '229', '228', '218', '204', '193', '194', '186', '187', '193', '196', '197', '201', '215', '210', '171', '125', '100', '103', '114', '119', '113', '110', '110', '108', '111', '111', '113', '118', '118', '120', '119', '118', '116', '118', '121', '118', '119', '119', '115', '114', '112', '112', '109', '109', '111', '92', '34', '11', '40', '56', '38', '21', '14', '8', '13', '22', '48', '106', '131', '128', '129', '126', '123', '123', '120', '120', '254', '254', '254', '254', '253', '255', '251', '210', '169', '140', '112', '93', '78', '64', '154', '235', '239', '237', '237', '237', '236', '236', '237', '235', '233', '228', '223', '225', '230', '230', '229', '227', '218', '204', '195', '195', '192', '192', '195', '204', '201', '204', '218', '214', '183', '141', '118', '116', '120', '121', '118', '110', '103', '104', '106', '112', '116', '119', '117', '115', '114', '116', '111', '117', '121', '119', '119', '120', '117', '117', '114', '110', '104', '105', '105', '66', '11', '9', '34', '50', '43', '27', '16', '15', '27', '36', '65', '116', '130', '130', '127', '124', '120', '122', '117', '117', '254', '254', '254', '254', '254', '253', '255', '242', '180', '134', '116', '106', '97', '61', '113', '219', '240', '237', '237', '238', '239', '238', '237', '238', '237', '230', '223', '227', '230', '227', '226', '230', '222', '211', '202', '201', '203', '203', '209', '220', '216', '208', '204', '187', '158', '137', '124', '114', '112', '111', '113', '114', '112', '106', '104', '112', '115', '116', '116', '113', '114', '112', '113', '113', '115', '117', '120', '122', '121', '115', '114', '112', '109', '106', '97', '49', '17', '25', '32', '31', '29', '25', '30', '37', '37', '51', '94', '131', '132', '132', '132', '128', '126', '120', '122', '125', '254', '254', '254', '254', '254', '252', '252', '255', '210', '139', '123', '118', '106', '76', '83', '190', '239', '236', '238', '238', '239', '238', '237', '241', '240', '234', '224', '229', '231', '227', '225', '226', '223', '216', '208', '208', '217', '221', '224', '224', '201', '175', '158', '136', '118', '114', '111', '98', '93', '93', '96', '106', '115', '113', '111', '111', '114', '114', '115', '114', '110', '110', '111', '110', '111', '114', '119', '119', '117', '114', '114', '113', '108', '106', '79', '36', '29', '32', '33', '31', '31', '31', '35', '46', '48', '55', '90', '123', '133', '132', '131', '126', '128', '126', '127', '132', '254', '254', '253', '253', '252', '255', '255', '206', '126', '139', '143', '120', '97', '82', '81', '161', '229', '237', '237', '240', '239', '238', '240', '242', '242', '238', '231', '229', '229', '225', '225', '225', '223', '220', '213', '209', '221', '217', '199', '176', '148', '130', '122', '106', '95', '101', '104', '88', '83', '83', '87', '92', '100', '111', '117', '118', '114', '114', '114', '113', '113', '112', '112', '113', '114', '114', '116', '120', '117', '115', '116', '109', '108', '98', '61', '34', '35', '40', '39', '42', '42', '42', '41', '40', '38', '27', '18', '39', '79', '114', '128', '128', '127', '129', '126', '125', '252', '252', '255', '255', '255', '212', '137', '45', '33', '99', '128', '112', '96', '89', '78', '138', '215', '232', '235', '237', '239', '240', '240', '242', '243', '239', '234', '230', '224', '220', '227', '227', '222', '212', '199', '194', '192', '174', '148', '124', '114', '107', '95', '84', '70', '78', '88', '77', '67', '73', '81', '83', '88', '94', '110', '120', '117', '116', '116', '112', '113', '113', '114', '115', '117', '117', '121', '119', '115', '119', '115', '108', '108', '73', '25', '19', '29', '31', '32', '32', '30', '25', '18', '13', '7', '1', '0', '0', '5', '35', '77', '118', '136', '137', '133', '131', '255', '255', '241', '198', '124', '81', '53', '42', '20', '60', '118', '113', '97', '80', '67', '122', '196', '224', '232', '235', '237', '238', '242', '241', '243', '241', '237', '231', '219', '213', '223', '224', '211', '193', '170', '153', '146', '133', '112', '96', '84', '74', '56', '39', '32', '39', '59', '60', '43', '37', '49', '70', '79', '85', '96', '106', '110', '113', '113', '113', '111', '113', '117', '120', '116', '117', '123', '121', '116', '116', '111', '111', '96', '38', '1', '1', '3', '3', '3', '2', '2', '1', '0', '0', '0', '1', '2', '2', '0', '0', '3', '32', '82', '125', '138', '136', '224', '164', '103', '85', '84', '72', '51', '21', '4', '33', '99', '121', '116', '70', '54', '111', '193', '227', '226', '234', '236', '239', '241', '240', '241', '240', '237', '228', '211', '208', '220', '219', '205', '180', '149', '117', '98', '88', '82', '73', '49', '24', '12', '10', '9', '16', '27', '32', '18', '3', '8', '36', '55', '61', '64', '76', '87', '97', '102', '109', '113', '114', '118', '121', '118', '117', '119', '120', '117', '115', '112', '108', '67', '9', '0', '1', '1', '1', '0', '1', '1', '1', '2', '1', '1', '1', '1', '1', '1', '2', '0', '0', '5', '39', '89', '120', '100', '81', '95', '95', '76', '47', '23', '8', '3', '14', '64', '112', '128', '69', '44', '103', '188', '231', '227', '230', '235', '239', '239', '240', '239', '238', '233', '227', '217', '213', '217', '214', '207', '198', '179', '142', '98', '91', '107', '94', '55', '25', '15', '9', '5', '12', '18', '14', '5', '1', '7', '21', '39', '46', '49', '57', '76', '94', '100', '111', '116', '116', '117', '119', '122', '117', '119', '118', '116', '111', '108', '90', '31', '0', '1', '1', '1', '1', '1', '1', '1', '1', '1', '1', '1', '1', '1', '1', '1', '1', '1', '2', '0', '0', '12', '47', '98', '101', '90', '73', '49', '24', '8', '2', '1', '4', '29', '84', '122', '82', '36', '80', '181', '236', '228', '228', '235', '237', '238', '238', '237', '234', '230', '224', '216', '210', '210', '204', '202', '209', '217', '207', '166', '149', '168', '144', '93', '65', '46', '34', '28', '27', '25', '23', '29', '37', '41', '46', '55', '68', '71', '80', '94', '100', '105', '110', '113', '116', '115', '118', '121', '118', '118', '120', '116', '111', '102', '57', '8', '1', '1', '1', '1', '1', '1', '1', '1', '1', '1', '1', '1', '1', '1', '1', '1', '1', '1', '1', '1', '2', '0', '0', '99', '88', '75', '55', '31', '12', '3', '1', '1', '2', '3', '43', '91', '90', '55', '67', '173', '241', '233', '225', '230', '232', '232', '234', '234', '231', '227', '221', '214', '204', '202', '200', '204', '211', '208', '209', '206', '185', '182', '161', '124', '98', '75', '64', '57', '53', '51', '53', '64', '70', '66', '67', '73', '79', '86', '95', '103', '107', '108', '108', '115', '116', '117', '118', '118', '119', '118', '117', '115', '111', '81', '24', '0', '1', '1', '1', '1', '1', '1', '1', '1', '1', '1', '1', '1', '1', '1', '1', '1', '1', '1', '1', '1', '1', '2', '1', '92', '79', '60', '37', '16', '4', '2', '1', '1', '1', '0', '6', '32', '56', '60', '69', '162', '241', '242', '227', '228', '232', '234', '233', '231', '229', '223', '219', '214', '206', '201', '199', '205', '206', '197', '189', '194', '191', '168', '151', '149', '129', '95', '83', '78', '68', '70', '80', '85', '85', '78', '79', '85', '87', '92', '94', '101', '109', '107', '109', '112', '114', '116', '116', '116', '118', '116', '113', '110', '95', '47', '5', '0', '1', '1', '1', '1', '1', '1', '1', '1', '1', '1', '1', '1', '1', '1', '1', '1', '1', '1', '1', '1', '1', '1', '1', '86', '74', '50', '24', '7', '2', '1', '1', '1', '1', '1', '1', '2', '16', '44', '67', '157', '238', '244', '235', '226', '226', '231', '232', '230', '223', '219', '212', '206', '201', '196', '198', '203', '201', '189', '178', '176', '183', '172', '148', '151', '143', '108', '98', '96', '86', '81', '92', '98', '94', '89', '90', '89', '92', '92', '99', '107', '111', '108', '108', '107', '111', '113', '115', '115', '113', '110', '110', '102', '69', '18', '0', '1', '1', '1', '1', '1', '1', '1', '1', '1', '1', '1', '1', '1', '1', '1', '1', '1', '1', '1', '1', '1', '1', '1', '1', '79', '64', '39', '15', '3', '1', '1', '1', '1', '1', '1', '1', '0', '14', '46', '50', '138', '237', '243', '237', '226', '224', '227', '229', '225', '219', '215', '209', '205', '199', '193', '196', '196', '194', '187', '177', '174', '176', '176', '158', '143', '134', '117', '103', '101', '101', '93', '98', '103', '99', '96', '87', '89', '98', '107', '111', '112', '110', '102', '102', '103', '108', '111', '113', '114', '112', '110', '107', '93', '45', '4', '1', '1', '1', '1', '1', '1', '1', '1', '1', '1', '1', '1', '1', '1', '1', '1', '1', '1', '1', '1', '1', '1', '1', '1', '1', '72', '52', '27', '7', '1', '1', '1', '1', '1', '1', '1', '1', '2', '21', '46', '36', '119', '234', '245', '239', '232', '224', '224', '224', '221', '219', '215', '213', '209', '200', '191', '189', '190', '186', '182', '176', '175', '172', '166', '163', '154', '137', '122', '105', '99', '100', '98', '100', '98', '95', '90', '89', '97', '106', '114', '112', '110', '106', '101', '99', '104', '108', '107', '109', '113', '111', '106', '100', '79', '28', '1', '1', '1', '1', '1', '1', '1', '1', '1', '1', '1', '1', '1', '1', '1', '1', '1', '1', '1', '1', '1', '1', '1', '1', '1', '1', '64', '44', '17', '3', '1', '1', '1', '1', '1', '1', '1', '1', '2', '25', '49', '25', '104', '226', '243', '238', '233', '227', '221', '219', '220', '218', '218', '215', '211', '203', '198', '194', '188', '185', '187', '185', '182', '170', '151', '143', '139', '136', '125', '111', '102', '103', '104', '103', '100', '97', '102', '108', '114', '115', '110', '108', '106', '104', '103', '101', '105', '106', '107', '109', '106', '106', '100', '98', '74', '18', '0', '1', '1', '1', '1', '1', '1', '1', '1', '1', '1', '1', '1', '1', '1', '1', '1', '1', '1', '1', '1', '1', '1', '1', '1', '1', '56', '32', '9', '2', '1', '1', '1', '1', '1', '1', '1', '1', '3', '28', '51', '19', '87', '219', '241', '236', '231', '228', '223', '218', '218', '220', '216', '215', '210', '207', '204', '199', '196', '194', '195', '189', '178', '160', '142', '131', '120', '115', '115', '110', '106', '108', '106', '108', '107', '110', '116', '117', '118', '113', '109', '107', '107', '105', '104', '104', '107', '108', '106', '104', '103', '101', '96', '95', '68', '15', '0', '1', '1', '1', '1', '1', '1', '1', '1', '1', '1', '1', '1', '1', '1', '1', '1', '1', '1', '1', '1', '1', '1', '1', '1', '1', '47', '19', '4', '1', '1', '1', '1', '1', '1', '1', '1', '1', '4', '32', '51', '14', '76', '215', '240', '232', '230', '229', '226', '218', '213', '215', '216', '214', '210', '211', '212', '205', '202', '202', '196', '186', '171', '151', '129', '122', '120', '113', '107', '104', '104', '102', '103', '107', '109', '111', '112', '113', '113', '112', '108', '104', '105', '106', '107', '108', '106', '105', '102', '104', '102', '96', '96', '92', '59', '11', '0', '1', '1', '1', '1', '1', '1', '1', '1', '1', '1', '1', '1', '1', '1', '1', '1', '1', '1', '1', '1', '1', '1', '1', '1', '1', '33', '10', '1', '1', '1', '1', '1', '1', '1', '1', '1', '1', '6', '35', '50', '12', '61', '205', '237', '229', '228', '228', '226', '222', '212', '205', '210', '212', '214', '216', '215', '214', '211', '210', '200', '182', '163', '147', '133', '123', '123', '121', '114', '109', '101', '101', '104', '109', '110', '109', '115', '114', '111', '112', '109', '106', '105', '108', '109', '105', '102', '100', '100', '99', '94', '94', '97', '93', '50', '7', '1', '1', '1', '1', '1', '1', '1', '1', '1', '1', '1', '1', '1', '1', '1', '1', '1', '1', '1', '1', '1', '1', '1', '1', '1', '1', '19', '3', '1', '1', '1', '1', '1', '1', '1', '1', '1', '1', '8', '34', '44', '8', '44', '193', '238', '227', '225', '226', '226', '222', '213', '205', '201', '205', '210', '215', '217', '218', '214', '212', '205', '190', '169', '149', '138', '133', '130', '131', '128', '120', '120', '119', '118', '122', '118', '115', '118', '117', '115', '115', '115', '111', '109', '108', '103', '100', '96', '97', '96', '95', '96', '97', '99', '91', '44', '2', '1', '1', '1', '1', '1', '1', '1', '1', '1', '1', '1', '1', '1', '1', '1', '1', '1', '1', '1', '1', '1', '1', '1', '1', '1', '1', '13', '2', '1', '1', '1', '1', '1', '1', '1', '1', '1', '1', '9', '34', '39', '8', '28', '172', '238', '228', '225', '224', '223', '221', '217', '210', '201', '198', '201', '209', '215', '217', '218', '217', '212', '199', '181', '160', '145', '142', '140', '139', '134', '131', '129', '125', '123', '123', '120', '116', '120', '120', '123', '121', '120', '118', '110', '105', '103', '98', '94', '90', '90', '95', '98', '97', '98', '87', '33', '0', '1', '1', '1', '1', '1', '1', '1', '1', '1', '1', '1', '1', '1', '1', '1', '1', '1', '1', '1', '1', '1', '1', '1', '1', '1', '1', '5', '1', '1', '1', '1', '1', '1', '1', '1', '1', '1', '1', '10', '32', '37', '8', '18', '156', '237', '227', '222', '220', '219', '216', '212', '208', '207', '201', '197', '200', '209', '217', '221', '220', '216', '207', '192', '166', '155', '153', '153', '148', '140', '133', '129', '129', '127', '126', '124', '121', '121', '122', '127', '126', '122', '119', '114', '110', '101', '93', '89', '87', '96', '101', '100', '98', '96', '83', '28', '0', '1', '1', '1', '1', '1', '1', '1', '1', '1', '1', '1', '1', '1', '1', '1', '1', '1', '1', '1', '1', '1', '1', '1', '1', '1', '1', '2', '1', '1', '1', '1', '1', '1', '1', '1', '1', '1', '1', '10', '29', '32', '10', '11', '139', '234', '227', '223', '219', '216', '214', '209', '209', '209', '208', '202', '200', '206', '213', '219', '220', '216', '209', '195', '174', '163', '164', '162', '156', '145', '131', '130', '132', '137', '132', '130', '125', '121', '125', '127', '127', '122', '119', '118', '112', '97', '87', '87', '93', '98', '103', '99', '95', '97', '76', '21', '0', '1', '1', '1', '1', '1', '1', '1', '1', '1', '1', '1', '1', '1', '1', '1', '1', '1', '1', '1', '1', '1', '1', '1', '1', '1', '1', '2', '1', '1', '1', '1', '1', '1', '1', '1', '1', '1', '1', '10', '27', '29', '10', '6', '125', '231', '228', '223', '219', '211', '207', '209', '208', '209', '210', '208', '203', '202', '209', '214', '218', '215', '205', '191', '178', '172', '168', '162', '156', '148', '140', '135', '136', '138', '134', '132', '126', '122', '124', '128', '126', '122', '122', '115', '101', '88', '85', '91', '97', '100', '100', '99', '97', '95', '70', '14', '0', '1', '1', '1', '1', '1', '1', '1', '1', '1', '1', '1', '1', '1', '1', '1', '1', '1', '1', '1', '1', '1', '1', '1', '1', '1', '1', '1', '1', '1', '1', '1', '1', '1', '1', '1', '1', '1', '2', '11', '25', '24', '8', '2', '118', '228', '227', '220', '215', '208', '203', '202', '204', '206', '211', '209', '203', '199', '204', '210', '213', '209', '199', '190', '180', '172', '164', '159', '154', '150', '142', '138', '140', '143', '140', '133', '128', '127', '125', '126', '124', '121', '115', '106', '94', '87', '88', '91', '97', '101', '100', '99', '96', '96', '64', '11', '0', '1', '1', '1', '1', '1', '1', '1', '1', '1', '1', '1', '1', '1', '1', '1', '1', '1', '1', '1', '1', '1', '1', '1', '1', '1', '1', '1', '1', '1', '1', '1', '1', '1', '1', '1', '1', '1', '2', '9', '22', '18', '5', '0', '109', '225', '226', '219', '212', '208', '201', '198', '200', '204', '209', '210', '208', '203', '199', '202', '204', '197', '189', '189', '181', '166', '160', '154', '150', '145', '139', '135', '135', '139', '138', '129', '127', '125', '126', '126', '125', '119', '109', '97', '86', '88', '93', '95', '100', '96', '99', '101', '96', '95', '58', '6', '1', '1', '1', '1', '1', '1', '1', '1', '1', '1', '1', '1', '1', '1', '1', '1', '1', '1', '1', '1', '1', '1', '1', '1', '1', '1', '1', '1', '1', '1', '1', '1', '1', '1', '1', '1', '1', '1', '1', '7', '20', '20', '7', '0', '101', '221', '229', '216', '211', '206', '200', '199', '196', '201', '206', '209', '208', '205', '200', '198', '192', '179', '172', '176', '170', '162', '155', '149', '139', '135', '131', '128', '131', '131', '129', '125', '122', '122', '121', '122', '121', '111', '99', '89', '87', '90', '93', '97', '97', '94', '97', '101', '98', '89', '43', '3', '1', '1', '1', '1', '1', '1', '1', '1', '1', '1', '1', '1', '1', '1', '1', '1', '1', '1', '1', '1', '1', '1', '1', '1', '1', '1', '1', '1', '1', '1', '1', '1', '1', '1', '1', '1', '1', '1', '1', '9', '18', '16', '8', '0', '88', '215', '228', '218', '213', '206', '199', '193', '190', '197', '202', '207', '212', '206', '199', '196', '189', '174', '163', '159', '156', '151', '146', '138', '131', '127', '124', '125', '127', '127', '122', '116', '118', '119', '117', '113', '110', '100', '93', '93', '90', '92', '93', '99', '99', '100', '100', '98', '97', '87', '31', '0', '2', '1', '1', '1', '1', '1', '1', '1', '1', '1', '1', '1', '1', '1', '1', '1', '1', '1', '1', '1', '1', '1', '1', '1', '1', '1', '1']\n"
          ],
          "name": "stdout"
        }
      ]
    },
    {
      "cell_type": "code",
      "metadata": {
        "id": "S7MCecHQ1DL3"
      },
      "source": [
        "input_list = []\r\n",
        "\r\n",
        "for i in range(len(X)):\r\n",
        "  input_list.append(X[i])\r\n",
        "\r\n",
        "inputs = np.array(input_list, dtype=int)"
      ],
      "execution_count": 29,
      "outputs": []
    },
    {
      "cell_type": "code",
      "metadata": {
        "id": "QmWzRMbhyHVz"
      },
      "source": [
        "# print(inputs[0])\r\n",
        "# [238 236 237 ...  70  75  90]"
      ],
      "execution_count": 34,
      "outputs": []
    },
    {
      "cell_type": "code",
      "metadata": {
        "id": "SBBaflzOydY2"
      },
      "source": [
        "# print(inputs[1])\r\n",
        "# [219 215 204 ...   1   1   1]"
      ],
      "execution_count": 35,
      "outputs": []
    },
    {
      "cell_type": "code",
      "metadata": {
        "id": "3tIkpK0h2UYD"
      },
      "source": [
        "# print(type(inputs))\r\n",
        "# <class 'numpy.ndarray'>\r\n",
        "\r\n",
        "# len(inputs)\r\n",
        "# 2140\r\n",
        "\r\n",
        "# len(inputs[0])\r\n",
        "# 9216\r\n",
        "\r\n",
        "# inputs[0][0]\r\n",
        "# 238\r\n",
        "\r\n",
        "# type(inputs[0][0])\r\n",
        "# numpy.int64\r\n",
        "\r\n",
        "# inputs[0][3]\r\n",
        "# 238\r\n",
        "\r\n",
        "# type(inputs[0][3])\r\n",
        "# numpy.int64"
      ],
      "execution_count": 33,
      "outputs": []
    },
    {
      "cell_type": "code",
      "metadata": {
        "id": "HMXTFV_OjyOe"
      },
      "source": [
        "Y = (df.drop(columns='Image', axis=1)).values\r\n",
        "\r\n",
        "# print(Y.shape)\r\n",
        "# (2140, 30)\r\n",
        "\r\n",
        "# print(type(Y))\r\n",
        "# <class 'numpy.ndarray'>"
      ],
      "execution_count": null,
      "outputs": []
    },
    {
      "cell_type": "code",
      "metadata": {
        "colab": {
          "base_uri": "https://localhost:8080/"
        },
        "id": "fT2laShBuhgK",
        "outputId": "e2400258-26c9-4b34-ced3-544603d3daff"
      },
      "source": [
        "HOW TO RESHAPE ALL TO 96, 96"
      ],
      "execution_count": null,
      "outputs": [
        {
          "output_type": "execute_result",
          "data": {
            "text/plain": [
              "96"
            ]
          },
          "metadata": {
            "tags": []
          },
          "execution_count": 77
        }
      ]
    },
    {
      "cell_type": "code",
      "metadata": {
        "id": "lYLMJF2nSIV1"
      },
      "source": [
        "# df['Image'].dtype\r\n",
        "# dtype('O')\r\n",
        "\r\n",
        "# type(df['Image'])\r\n",
        "# pandas.core.series.Series"
      ],
      "execution_count": null,
      "outputs": []
    },
    {
      "cell_type": "code",
      "metadata": {
        "colab": {
          "base_uri": "https://localhost:8080/"
        },
        "id": "iRhk3T-tfb7Y",
        "outputId": "ebbcec08-7b04-4fb1-c55a-587a6cb95e52"
      },
      "source": [
        "df['Image'].apply(len)"
      ],
      "execution_count": null,
      "outputs": [
        {
          "output_type": "execute_result",
          "data": {
            "text/plain": [
              "0       96\n",
              "1       96\n",
              "2       96\n",
              "3       96\n",
              "4       96\n",
              "        ..\n",
              "2135    96\n",
              "2136    96\n",
              "2137    96\n",
              "2138    96\n",
              "2139    96\n",
              "Name: Image, Length: 2140, dtype: int64"
            ]
          },
          "metadata": {
            "tags": []
          },
          "execution_count": 14
        }
      ]
    },
    {
      "cell_type": "code",
      "metadata": {
        "id": "D-YlJ8qyZOZV"
      },
      "source": [
        "# type(df['Image'][0][0])\r\n",
        "# str\r\n",
        "\r\n",
        "# type(df['Image'][0][3])\r\n",
        "# str\r\n",
        "\r\n",
        "# df['Image'][0][0]\r\n",
        "# '2'\r\n",
        "\r\n",
        "# df['Image'][0][3]\r\n",
        "# ' '"
      ],
      "execution_count": null,
      "outputs": []
    },
    {
      "cell_type": "code",
      "metadata": {
        "colab": {
          "base_uri": "https://localhost:8080/",
          "height": 326
        },
        "id": "eTCbJFJMLCVC",
        "outputId": "ed7ec6a1-e730-4ea3-f5f9-8782374a333a"
      },
      "source": [
        "df['Image'] = df['Image'].apply(lambda x: np.fromstring(x, dtype = int, sep = ' ').reshape(96, 96))"
      ],
      "execution_count": null,
      "outputs": [
        {
          "output_type": "stream",
          "text": [
            "/usr/local/lib/python3.6/dist-packages/ipykernel_launcher.py:1: DeprecationWarning: string or file could not be read to its end due to unmatched data; this will raise a ValueError in the future.\n",
            "  \"\"\"Entry point for launching an IPython kernel.\n"
          ],
          "name": "stderr"
        },
        {
          "output_type": "error",
          "ename": "ValueError",
          "evalue": "ignored",
          "traceback": [
            "\u001b[0;31m---------------------------------------------------------------------------\u001b[0m",
            "\u001b[0;31mValueError\u001b[0m                                Traceback (most recent call last)",
            "\u001b[0;32m<ipython-input-16-b3dfb2c1aa03>\u001b[0m in \u001b[0;36m<module>\u001b[0;34m()\u001b[0m\n\u001b[0;32m----> 1\u001b[0;31m \u001b[0mdf\u001b[0m\u001b[0;34m[\u001b[0m\u001b[0;34m'Image'\u001b[0m\u001b[0;34m]\u001b[0m \u001b[0;34m=\u001b[0m \u001b[0mdf\u001b[0m\u001b[0;34m[\u001b[0m\u001b[0;34m'Image'\u001b[0m\u001b[0;34m]\u001b[0m\u001b[0;34m.\u001b[0m\u001b[0mapply\u001b[0m\u001b[0;34m(\u001b[0m\u001b[0;32mlambda\u001b[0m \u001b[0mx\u001b[0m\u001b[0;34m:\u001b[0m \u001b[0mnp\u001b[0m\u001b[0;34m.\u001b[0m\u001b[0mfromstring\u001b[0m\u001b[0;34m(\u001b[0m\u001b[0mx\u001b[0m\u001b[0;34m,\u001b[0m \u001b[0mdtype\u001b[0m \u001b[0;34m=\u001b[0m \u001b[0mint\u001b[0m\u001b[0;34m,\u001b[0m \u001b[0msep\u001b[0m \u001b[0;34m=\u001b[0m \u001b[0;34m' '\u001b[0m\u001b[0;34m)\u001b[0m\u001b[0;34m.\u001b[0m\u001b[0mreshape\u001b[0m\u001b[0;34m(\u001b[0m\u001b[0;36m96\u001b[0m\u001b[0;34m,\u001b[0m \u001b[0;36m96\u001b[0m\u001b[0;34m)\u001b[0m\u001b[0;34m)\u001b[0m\u001b[0;34m\u001b[0m\u001b[0;34m\u001b[0m\u001b[0m\n\u001b[0m",
            "\u001b[0;32m/usr/local/lib/python3.6/dist-packages/pandas/core/series.py\u001b[0m in \u001b[0;36mapply\u001b[0;34m(self, func, convert_dtype, args, **kwds)\u001b[0m\n\u001b[1;32m   4211\u001b[0m             \u001b[0;32melse\u001b[0m\u001b[0;34m:\u001b[0m\u001b[0;34m\u001b[0m\u001b[0;34m\u001b[0m\u001b[0m\n\u001b[1;32m   4212\u001b[0m                 \u001b[0mvalues\u001b[0m \u001b[0;34m=\u001b[0m \u001b[0mself\u001b[0m\u001b[0;34m.\u001b[0m\u001b[0mastype\u001b[0m\u001b[0;34m(\u001b[0m\u001b[0mobject\u001b[0m\u001b[0;34m)\u001b[0m\u001b[0;34m.\u001b[0m\u001b[0m_values\u001b[0m\u001b[0;34m\u001b[0m\u001b[0;34m\u001b[0m\u001b[0m\n\u001b[0;32m-> 4213\u001b[0;31m                 \u001b[0mmapped\u001b[0m \u001b[0;34m=\u001b[0m \u001b[0mlib\u001b[0m\u001b[0;34m.\u001b[0m\u001b[0mmap_infer\u001b[0m\u001b[0;34m(\u001b[0m\u001b[0mvalues\u001b[0m\u001b[0;34m,\u001b[0m \u001b[0mf\u001b[0m\u001b[0;34m,\u001b[0m \u001b[0mconvert\u001b[0m\u001b[0;34m=\u001b[0m\u001b[0mconvert_dtype\u001b[0m\u001b[0;34m)\u001b[0m\u001b[0;34m\u001b[0m\u001b[0;34m\u001b[0m\u001b[0m\n\u001b[0m\u001b[1;32m   4214\u001b[0m \u001b[0;34m\u001b[0m\u001b[0m\n\u001b[1;32m   4215\u001b[0m         \u001b[0;32mif\u001b[0m \u001b[0mlen\u001b[0m\u001b[0;34m(\u001b[0m\u001b[0mmapped\u001b[0m\u001b[0;34m)\u001b[0m \u001b[0;32mand\u001b[0m \u001b[0misinstance\u001b[0m\u001b[0;34m(\u001b[0m\u001b[0mmapped\u001b[0m\u001b[0;34m[\u001b[0m\u001b[0;36m0\u001b[0m\u001b[0;34m]\u001b[0m\u001b[0;34m,\u001b[0m \u001b[0mSeries\u001b[0m\u001b[0;34m)\u001b[0m\u001b[0;34m:\u001b[0m\u001b[0;34m\u001b[0m\u001b[0;34m\u001b[0m\u001b[0m\n",
            "\u001b[0;32mpandas/_libs/lib.pyx\u001b[0m in \u001b[0;36mpandas._libs.lib.map_infer\u001b[0;34m()\u001b[0m\n",
            "\u001b[0;32m<ipython-input-16-b3dfb2c1aa03>\u001b[0m in \u001b[0;36m<lambda>\u001b[0;34m(x)\u001b[0m\n\u001b[0;32m----> 1\u001b[0;31m \u001b[0mdf\u001b[0m\u001b[0;34m[\u001b[0m\u001b[0;34m'Image'\u001b[0m\u001b[0;34m]\u001b[0m \u001b[0;34m=\u001b[0m \u001b[0mdf\u001b[0m\u001b[0;34m[\u001b[0m\u001b[0;34m'Image'\u001b[0m\u001b[0;34m]\u001b[0m\u001b[0;34m.\u001b[0m\u001b[0mapply\u001b[0m\u001b[0;34m(\u001b[0m\u001b[0;32mlambda\u001b[0m \u001b[0mx\u001b[0m\u001b[0;34m:\u001b[0m \u001b[0mnp\u001b[0m\u001b[0;34m.\u001b[0m\u001b[0mfromstring\u001b[0m\u001b[0;34m(\u001b[0m\u001b[0mx\u001b[0m\u001b[0;34m,\u001b[0m \u001b[0mdtype\u001b[0m \u001b[0;34m=\u001b[0m \u001b[0mint\u001b[0m\u001b[0;34m,\u001b[0m \u001b[0msep\u001b[0m \u001b[0;34m=\u001b[0m \u001b[0;34m' '\u001b[0m\u001b[0;34m)\u001b[0m\u001b[0;34m.\u001b[0m\u001b[0mreshape\u001b[0m\u001b[0;34m(\u001b[0m\u001b[0;36m96\u001b[0m\u001b[0;34m,\u001b[0m \u001b[0;36m96\u001b[0m\u001b[0;34m)\u001b[0m\u001b[0;34m)\u001b[0m\u001b[0;34m\u001b[0m\u001b[0;34m\u001b[0m\u001b[0m\n\u001b[0m",
            "\u001b[0;31mValueError\u001b[0m: cannot reshape array of size 0 into shape (96,96)"
          ]
        }
      ]
    },
    {
      "cell_type": "code",
      "metadata": {
        "id": "rbToin8NVsty"
      },
      "source": [
        "# df['Image'][0][0]\r\n",
        "\r\n",
        "# array([238, 236, 237, 238, 240, 240, 239, 241, 241, 243, 240, 239, 231,\r\n",
        "#        212, 190, 173, 148, 122, 104,  92,  79,  73,  74,  73,  73,  74,\r\n",
        "#         81,  74,  60,  64,  75,  86,  93, 102, 100, 105, 109, 114, 121,\r\n",
        "#        127, 132, 134, 137, 137, 140, 139, 138, 137, 137, 140, 141, 143,\r\n",
        "#        144, 147, 148, 149, 147, 147, 148, 145, 147, 144, 146, 147, 147,\r\n",
        "#        143, 134, 130, 130, 128, 116, 104,  98,  90,  82,  78,  85,  88,\r\n",
        "#         86,  80,  77,  87, 108, 111, 115, 128, 133, 188, 242, 252, 250,\r\n",
        "#        248, 251, 250, 250, 250])\r\n",
        "\r\n",
        "# type(df['Image'][0][0][0])\r\n",
        "# numpy.int64\r\n",
        "\r\n",
        "# type(df['Image'][0][0][3])\r\n",
        "# numpy.int64\r\n",
        "\r\n",
        "# df['Image'][0][0][0]\r\n",
        "# 238\r\n",
        "\r\n",
        "# df['Image'][0][0][3]\r\n",
        "# 238"
      ],
      "execution_count": null,
      "outputs": []
    },
    {
      "cell_type": "code",
      "metadata": {
        "id": "V8exHVzfVVEP"
      },
      "source": [
        "df['Image'].apply(len)"
      ],
      "execution_count": null,
      "outputs": []
    },
    {
      "cell_type": "code",
      "metadata": {
        "id": "MuspvDkpiDoF"
      },
      "source": [
        "df['Image'][0].shape"
      ],
      "execution_count": null,
      "outputs": []
    },
    {
      "cell_type": "code",
      "metadata": {
        "id": "VDQkTWJ_htGg"
      },
      "source": [
        "plt.imshow(df['Image'][0], cmap='gray')"
      ],
      "execution_count": null,
      "outputs": []
    }
  ]
}